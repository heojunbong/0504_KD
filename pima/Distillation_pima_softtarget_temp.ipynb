{
 "cells": [
  {
   "cell_type": "code",
   "execution_count": 1,
   "metadata": {},
   "outputs": [
    {
     "name": "stderr",
     "output_type": "stream",
     "text": [
      "/dshome/WoongLab/.local/lib/python3.8/site-packages/tqdm/auto.py:22: TqdmWarning: IProgress not found. Please update jupyter and ipywidgets. See https://ipywidgets.readthedocs.io/en/stable/user_install.html\n",
      "  from .autonotebook import tqdm as notebook_tqdm\n"
     ]
    }
   ],
   "source": [
    "# 필요한 라이브러리 import하기\n",
    "\n",
    "import pandas as pd \n",
    "import numpy as np \n",
    "import matplotlib.pyplot as plt \n",
    "import optuna \n",
    "import lightgbm as lgb \n",
    "from sklearn.metrics import accuracy_score, roc_auc_score,precision_score, confusion_matrix,recall_score \n",
    "from sklearn.model_selection import cross_val_score, train_test_split\n",
    "import os "
   ]
  },
  {
   "cell_type": "code",
   "execution_count": 2,
   "metadata": {},
   "outputs": [],
   "source": [
    "# train data와 test data 로드하기\n",
    "\n",
    "train_data=pd.read_csv('/dshome/WoongLab/heo/construction_oil/preprocessed_data/pima_train_data.csv')\n",
    "test_data=pd.read_csv('/dshome/WoongLab/heo/construction_oil/preprocessed_data/pima_test_data.csv')"
   ]
  },
  {
   "cell_type": "code",
   "execution_count": 3,
   "metadata": {},
   "outputs": [
    {
     "name": "stdout",
     "output_type": "stream",
     "text": [
      "<class 'pandas.core.frame.DataFrame'>\n",
      "RangeIndex: 614 entries, 0 to 613\n",
      "Data columns (total 9 columns):\n",
      " #   Column                    Non-Null Count  Dtype  \n",
      "---  ------                    --------------  -----  \n",
      " 0   Pregnancies               614 non-null    int64  \n",
      " 1   Glucose                   614 non-null    int64  \n",
      " 2   BloodPressure             614 non-null    int64  \n",
      " 3   SkinThickness             614 non-null    int64  \n",
      " 4   Insulin                   614 non-null    int64  \n",
      " 5   BMI                       614 non-null    float64\n",
      " 6   DiabetesPedigreeFunction  614 non-null    float64\n",
      " 7   Age                       614 non-null    int64  \n",
      " 8   Outcome                   614 non-null    int64  \n",
      "dtypes: float64(2), int64(7)\n",
      "memory usage: 43.3 KB\n"
     ]
    }
   ],
   "source": [
    "train_data.info()"
   ]
  },
  {
   "cell_type": "code",
   "execution_count": 4,
   "metadata": {},
   "outputs": [],
   "source": [
    "train_X=train_data.drop('Outcome',axis=1)\n",
    "train_y=train_data['Outcome']\n",
    "\n",
    "new_test_data_X=test_data.drop('Outcome',axis=1)\n",
    "new_test_data_y=test_data['Outcome']"
   ]
  },
  {
   "cell_type": "code",
   "execution_count": 5,
   "metadata": {},
   "outputs": [
    {
     "data": {
      "text/plain": [
       "0    400\n",
       "1    214\n",
       "Name: Outcome, dtype: int64"
      ]
     },
     "execution_count": 5,
     "metadata": {},
     "output_type": "execute_result"
    }
   ],
   "source": [
    "train_y.value_counts()"
   ]
  },
  {
   "cell_type": "code",
   "execution_count": 6,
   "metadata": {},
   "outputs": [],
   "source": [
    "# class weight 적용하기 위해 y label의 비율을 구하기\n",
    "\n",
    "ratio=train_y.value_counts()[0]/train_y.value_counts()[1]"
   ]
  },
  {
   "attachments": {},
   "cell_type": "markdown",
   "metadata": {},
   "source": [
    "## 베이지안 최적화해주기 - LightgbmClassifier\n",
    "\n",
    "**1. 5-fold 교차검증 이용해서 Train data로 Validation set을 Auc가 최고였을 때의 하이퍼파라미터 구하기**\n",
    "\n",
    "**2. Learning rate 0.01~0.1, max_depth 3~9, n_estimators 100~1000이었을 때에서 가장 최적의 하이퍼파라미터 구하기**"
   ]
  },
  {
   "cell_type": "code",
   "execution_count": 7,
   "metadata": {},
   "outputs": [
    {
     "name": "stderr",
     "output_type": "stream",
     "text": [
      "\u001b[32m[I 2023-04-28 15:29:35,029]\u001b[0m A new study created in memory with name: lgb_boost_opt\u001b[0m\n",
      "/tmp/ipykernel_830658/2141867322.py:7: FutureWarning: suggest_loguniform has been deprecated in v3.0.0. This feature will be removed in v6.0.0. See https://github.com/optuna/optuna/releases/tag/v3.0.0. Use :func:`~optuna.trial.Trial.suggest_float` instead.\n",
      "  'learning_rate':trial.suggest_loguniform('learning_rate',0.01,0.1),\n",
      "\u001b[32m[I 2023-04-28 15:29:37,660]\u001b[0m Trial 0 finished with value: 0.7891971207087487 and parameters: {'learning_rate': 0.012852177105517506, 'max_depth': 7, 'n_estimators': 603}. Best is trial 0 with value: 0.7891971207087487.\u001b[0m\n",
      "/tmp/ipykernel_830658/2141867322.py:7: FutureWarning: suggest_loguniform has been deprecated in v3.0.0. This feature will be removed in v6.0.0. See https://github.com/optuna/optuna/releases/tag/v3.0.0. Use :func:`~optuna.trial.Trial.suggest_float` instead.\n",
      "  'learning_rate':trial.suggest_loguniform('learning_rate',0.01,0.1),\n",
      "\u001b[32m[I 2023-04-28 15:29:40,429]\u001b[0m Trial 1 finished with value: 0.7564797895902549 and parameters: {'learning_rate': 0.08674094387313179, 'max_depth': 4, 'n_estimators': 653}. Best is trial 0 with value: 0.7891971207087487.\u001b[0m\n",
      "/tmp/ipykernel_830658/2141867322.py:7: FutureWarning: suggest_loguniform has been deprecated in v3.0.0. This feature will be removed in v6.0.0. See https://github.com/optuna/optuna/releases/tag/v3.0.0. Use :func:`~optuna.trial.Trial.suggest_float` instead.\n",
      "  'learning_rate':trial.suggest_loguniform('learning_rate',0.01,0.1),\n",
      "\u001b[32m[I 2023-04-28 15:29:41,452]\u001b[0m Trial 2 finished with value: 0.7699570874861573 and parameters: {'learning_rate': 0.08301657046246268, 'max_depth': 4, 'n_estimators': 241}. Best is trial 0 with value: 0.7891971207087487.\u001b[0m\n",
      "/tmp/ipykernel_830658/2141867322.py:7: FutureWarning: suggest_loguniform has been deprecated in v3.0.0. This feature will be removed in v6.0.0. See https://github.com/optuna/optuna/releases/tag/v3.0.0. Use :func:`~optuna.trial.Trial.suggest_float` instead.\n",
      "  'learning_rate':trial.suggest_loguniform('learning_rate',0.01,0.1),\n",
      "\u001b[32m[I 2023-04-28 15:29:43,474]\u001b[0m Trial 3 finished with value: 0.7579014396456257 and parameters: {'learning_rate': 0.04497635867468468, 'max_depth': 4, 'n_estimators': 990}. Best is trial 0 with value: 0.7891971207087487.\u001b[0m\n",
      "/tmp/ipykernel_830658/2141867322.py:7: FutureWarning: suggest_loguniform has been deprecated in v3.0.0. This feature will be removed in v6.0.0. See https://github.com/optuna/optuna/releases/tag/v3.0.0. Use :func:`~optuna.trial.Trial.suggest_float` instead.\n",
      "  'learning_rate':trial.suggest_loguniform('learning_rate',0.01,0.1),\n",
      "\u001b[32m[I 2023-04-28 15:29:45,076]\u001b[0m Trial 4 finished with value: 0.8089271871539314 and parameters: {'learning_rate': 0.010596490573185556, 'max_depth': 9, 'n_estimators': 373}. Best is trial 4 with value: 0.8089271871539314.\u001b[0m\n",
      "/tmp/ipykernel_830658/2141867322.py:7: FutureWarning: suggest_loguniform has been deprecated in v3.0.0. This feature will be removed in v6.0.0. See https://github.com/optuna/optuna/releases/tag/v3.0.0. Use :func:`~optuna.trial.Trial.suggest_float` instead.\n",
      "  'learning_rate':trial.suggest_loguniform('learning_rate',0.01,0.1),\n",
      "\u001b[32m[I 2023-04-28 15:29:49,894]\u001b[0m Trial 5 finished with value: 0.8013233665559246 and parameters: {'learning_rate': 0.011096183738686484, 'max_depth': 7, 'n_estimators': 476}. Best is trial 4 with value: 0.8089271871539314.\u001b[0m\n",
      "/tmp/ipykernel_830658/2141867322.py:7: FutureWarning: suggest_loguniform has been deprecated in v3.0.0. This feature will be removed in v6.0.0. See https://github.com/optuna/optuna/releases/tag/v3.0.0. Use :func:`~optuna.trial.Trial.suggest_float` instead.\n",
      "  'learning_rate':trial.suggest_loguniform('learning_rate',0.01,0.1),\n",
      "\u001b[32m[I 2023-04-28 15:29:59,265]\u001b[0m Trial 6 finished with value: 0.7955537098560355 and parameters: {'learning_rate': 0.029464258935283382, 'max_depth': 9, 'n_estimators': 207}. Best is trial 4 with value: 0.8089271871539314.\u001b[0m\n",
      "/tmp/ipykernel_830658/2141867322.py:7: FutureWarning: suggest_loguniform has been deprecated in v3.0.0. This feature will be removed in v6.0.0. See https://github.com/optuna/optuna/releases/tag/v3.0.0. Use :func:`~optuna.trial.Trial.suggest_float` instead.\n",
      "  'learning_rate':trial.suggest_loguniform('learning_rate',0.01,0.1),\n",
      "\u001b[32m[I 2023-04-28 15:30:03,854]\u001b[0m Trial 7 finished with value: 0.7931464562569214 and parameters: {'learning_rate': 0.010262636429092595, 'max_depth': 8, 'n_estimators': 666}. Best is trial 4 with value: 0.8089271871539314.\u001b[0m\n",
      "/tmp/ipykernel_830658/2141867322.py:7: FutureWarning: suggest_loguniform has been deprecated in v3.0.0. This feature will be removed in v6.0.0. See https://github.com/optuna/optuna/releases/tag/v3.0.0. Use :func:`~optuna.trial.Trial.suggest_float` instead.\n",
      "  'learning_rate':trial.suggest_loguniform('learning_rate',0.01,0.1),\n",
      "\u001b[32m[I 2023-04-28 15:30:08,242]\u001b[0m Trial 8 finished with value: 0.773031561461794 and parameters: {'learning_rate': 0.06651863975184816, 'max_depth': 6, 'n_estimators': 325}. Best is trial 4 with value: 0.8089271871539314.\u001b[0m\n",
      "/tmp/ipykernel_830658/2141867322.py:7: FutureWarning: suggest_loguniform has been deprecated in v3.0.0. This feature will be removed in v6.0.0. See https://github.com/optuna/optuna/releases/tag/v3.0.0. Use :func:`~optuna.trial.Trial.suggest_float` instead.\n",
      "  'learning_rate':trial.suggest_loguniform('learning_rate',0.01,0.1),\n",
      "\u001b[32m[I 2023-04-28 15:30:09,244]\u001b[0m Trial 9 finished with value: 0.7655107973421926 and parameters: {'learning_rate': 0.05563148715108996, 'max_depth': 4, 'n_estimators': 442}. Best is trial 4 with value: 0.8089271871539314.\u001b[0m\n",
      "/tmp/ipykernel_830658/2141867322.py:7: FutureWarning: suggest_loguniform has been deprecated in v3.0.0. This feature will be removed in v6.0.0. See https://github.com/optuna/optuna/releases/tag/v3.0.0. Use :func:`~optuna.trial.Trial.suggest_float` instead.\n",
      "  'learning_rate':trial.suggest_loguniform('learning_rate',0.01,0.1),\n",
      "\u001b[32m[I 2023-04-28 15:30:12,936]\u001b[0m Trial 10 finished with value: 0.7738053709856036 and parameters: {'learning_rate': 0.01968537833744305, 'max_depth': 9, 'n_estimators': 875}. Best is trial 4 with value: 0.8089271871539314.\u001b[0m\n",
      "/tmp/ipykernel_830658/2141867322.py:7: FutureWarning: suggest_loguniform has been deprecated in v3.0.0. This feature will be removed in v6.0.0. See https://github.com/optuna/optuna/releases/tag/v3.0.0. Use :func:`~optuna.trial.Trial.suggest_float` instead.\n",
      "  'learning_rate':trial.suggest_loguniform('learning_rate',0.01,0.1),\n",
      "\u001b[32m[I 2023-04-28 15:30:14,340]\u001b[0m Trial 11 finished with value: 0.7955412513842747 and parameters: {'learning_rate': 0.014952677110434253, 'max_depth': 6, 'n_estimators': 422}. Best is trial 4 with value: 0.8089271871539314.\u001b[0m\n",
      "/tmp/ipykernel_830658/2141867322.py:7: FutureWarning: suggest_loguniform has been deprecated in v3.0.0. This feature will be removed in v6.0.0. See https://github.com/optuna/optuna/releases/tag/v3.0.0. Use :func:`~optuna.trial.Trial.suggest_float` instead.\n",
      "  'learning_rate':trial.suggest_loguniform('learning_rate',0.01,0.1),\n",
      "\u001b[32m[I 2023-04-28 15:30:14,818]\u001b[0m Trial 12 finished with value: 0.8134246954595792 and parameters: {'learning_rate': 0.010814867342795702, 'max_depth': 7, 'n_estimators': 109}. Best is trial 12 with value: 0.8134246954595792.\u001b[0m\n",
      "/tmp/ipykernel_830658/2141867322.py:7: FutureWarning: suggest_loguniform has been deprecated in v3.0.0. This feature will be removed in v6.0.0. See https://github.com/optuna/optuna/releases/tag/v3.0.0. Use :func:`~optuna.trial.Trial.suggest_float` instead.\n",
      "  'learning_rate':trial.suggest_loguniform('learning_rate',0.01,0.1),\n",
      "\u001b[32m[I 2023-04-28 15:30:15,293]\u001b[0m Trial 13 finished with value: 0.8127782392026578 and parameters: {'learning_rate': 0.016876118114189598, 'max_depth': 8, 'n_estimators': 107}. Best is trial 12 with value: 0.8134246954595792.\u001b[0m\n",
      "/tmp/ipykernel_830658/2141867322.py:7: FutureWarning: suggest_loguniform has been deprecated in v3.0.0. This feature will be removed in v6.0.0. See https://github.com/optuna/optuna/releases/tag/v3.0.0. Use :func:`~optuna.trial.Trial.suggest_float` instead.\n",
      "  'learning_rate':trial.suggest_loguniform('learning_rate',0.01,0.1),\n",
      "\u001b[32m[I 2023-04-28 15:30:15,768]\u001b[0m Trial 14 finished with value: 0.8121331672203767 and parameters: {'learning_rate': 0.019422984491899473, 'max_depth': 7, 'n_estimators': 113}. Best is trial 12 with value: 0.8134246954595792.\u001b[0m\n",
      "/tmp/ipykernel_830658/2141867322.py:7: FutureWarning: suggest_loguniform has been deprecated in v3.0.0. This feature will be removed in v6.0.0. See https://github.com/optuna/optuna/releases/tag/v3.0.0. Use :func:`~optuna.trial.Trial.suggest_float` instead.\n",
      "  'learning_rate':trial.suggest_loguniform('learning_rate',0.01,0.1),\n",
      "\u001b[32m[I 2023-04-28 15:30:16,369]\u001b[0m Trial 15 finished with value: 0.8137679955703211 and parameters: {'learning_rate': 0.016266423733763285, 'max_depth': 8, 'n_estimators': 109}. Best is trial 15 with value: 0.8137679955703211.\u001b[0m\n",
      "/tmp/ipykernel_830658/2141867322.py:7: FutureWarning: suggest_loguniform has been deprecated in v3.0.0. This feature will be removed in v6.0.0. See https://github.com/optuna/optuna/releases/tag/v3.0.0. Use :func:`~optuna.trial.Trial.suggest_float` instead.\n",
      "  'learning_rate':trial.suggest_loguniform('learning_rate',0.01,0.1),\n",
      "\u001b[32m[I 2023-04-28 15:30:17,103]\u001b[0m Trial 16 finished with value: 0.8004277408637874 and parameters: {'learning_rate': 0.024840927514738636, 'max_depth': 5, 'n_estimators': 251}. Best is trial 15 with value: 0.8137679955703211.\u001b[0m\n",
      "/tmp/ipykernel_830658/2141867322.py:7: FutureWarning: suggest_loguniform has been deprecated in v3.0.0. This feature will be removed in v6.0.0. See https://github.com/optuna/optuna/releases/tag/v3.0.0. Use :func:`~optuna.trial.Trial.suggest_float` instead.\n",
      "  'learning_rate':trial.suggest_loguniform('learning_rate',0.01,0.1),\n",
      "\u001b[32m[I 2023-04-28 15:30:17,849]\u001b[0m Trial 17 finished with value: 0.8118936877076413 and parameters: {'learning_rate': 0.014311602442060202, 'max_depth': 8, 'n_estimators': 175}. Best is trial 15 with value: 0.8137679955703211.\u001b[0m\n",
      "/tmp/ipykernel_830658/2141867322.py:7: FutureWarning: suggest_loguniform has been deprecated in v3.0.0. This feature will be removed in v6.0.0. See https://github.com/optuna/optuna/releases/tag/v3.0.0. Use :func:`~optuna.trial.Trial.suggest_float` instead.\n",
      "  'learning_rate':trial.suggest_loguniform('learning_rate',0.01,0.1),\n",
      "\u001b[32m[I 2023-04-28 15:30:24,219]\u001b[0m Trial 18 finished with value: 0.7721650055370985 and parameters: {'learning_rate': 0.023107034623142998, 'max_depth': 7, 'n_estimators': 782}. Best is trial 15 with value: 0.8137679955703211.\u001b[0m\n",
      "/tmp/ipykernel_830658/2141867322.py:7: FutureWarning: suggest_loguniform has been deprecated in v3.0.0. This feature will be removed in v6.0.0. See https://github.com/optuna/optuna/releases/tag/v3.0.0. Use :func:`~optuna.trial.Trial.suggest_float` instead.\n",
      "  'learning_rate':trial.suggest_loguniform('learning_rate',0.01,0.1),\n",
      "\u001b[32m[I 2023-04-28 15:30:25,195]\u001b[0m Trial 19 finished with value: 0.8088496677740864 and parameters: {'learning_rate': 0.014086830896760768, 'max_depth': 5, 'n_estimators': 330}. Best is trial 15 with value: 0.8137679955703211.\u001b[0m\n",
      "/tmp/ipykernel_830658/2141867322.py:7: FutureWarning: suggest_loguniform has been deprecated in v3.0.0. This feature will be removed in v6.0.0. See https://github.com/optuna/optuna/releases/tag/v3.0.0. Use :func:`~optuna.trial.Trial.suggest_float` instead.\n",
      "  'learning_rate':trial.suggest_loguniform('learning_rate',0.01,0.1),\n",
      "\u001b[32m[I 2023-04-28 15:30:25,986]\u001b[0m Trial 20 finished with value: 0.7843812292358805 and parameters: {'learning_rate': 0.033996399897847286, 'max_depth': 3, 'n_estimators': 526}. Best is trial 15 with value: 0.8137679955703211.\u001b[0m\n",
      "/tmp/ipykernel_830658/2141867322.py:7: FutureWarning: suggest_loguniform has been deprecated in v3.0.0. This feature will be removed in v6.0.0. See https://github.com/optuna/optuna/releases/tag/v3.0.0. Use :func:`~optuna.trial.Trial.suggest_float` instead.\n",
      "  'learning_rate':trial.suggest_loguniform('learning_rate',0.01,0.1),\n",
      "\u001b[32m[I 2023-04-28 15:30:26,499]\u001b[0m Trial 21 finished with value: 0.8130869324473974 and parameters: {'learning_rate': 0.016846531963443462, 'max_depth': 8, 'n_estimators': 112}. Best is trial 15 with value: 0.8137679955703211.\u001b[0m\n",
      "/tmp/ipykernel_830658/2141867322.py:7: FutureWarning: suggest_loguniform has been deprecated in v3.0.0. This feature will be removed in v6.0.0. See https://github.com/optuna/optuna/releases/tag/v3.0.0. Use :func:`~optuna.trial.Trial.suggest_float` instead.\n",
      "  'learning_rate':trial.suggest_loguniform('learning_rate',0.01,0.1),\n",
      "\u001b[32m[I 2023-04-28 15:30:27,058]\u001b[0m Trial 22 finished with value: 0.8125429125138428 and parameters: {'learning_rate': 0.01765424878450213, 'max_depth': 8, 'n_estimators': 101}. Best is trial 15 with value: 0.8137679955703211.\u001b[0m\n",
      "/tmp/ipykernel_830658/2141867322.py:7: FutureWarning: suggest_loguniform has been deprecated in v3.0.0. This feature will be removed in v6.0.0. See https://github.com/optuna/optuna/releases/tag/v3.0.0. Use :func:`~optuna.trial.Trial.suggest_float` instead.\n",
      "  'learning_rate':trial.suggest_loguniform('learning_rate',0.01,0.1),\n",
      "\u001b[32m[I 2023-04-28 15:30:28,183]\u001b[0m Trial 23 finished with value: 0.8105218715393134 and parameters: {'learning_rate': 0.012665432523390028, 'max_depth': 8, 'n_estimators': 279}. Best is trial 15 with value: 0.8137679955703211.\u001b[0m\n",
      "/tmp/ipykernel_830658/2141867322.py:7: FutureWarning: suggest_loguniform has been deprecated in v3.0.0. This feature will be removed in v6.0.0. See https://github.com/optuna/optuna/releases/tag/v3.0.0. Use :func:`~optuna.trial.Trial.suggest_float` instead.\n",
      "  'learning_rate':trial.suggest_loguniform('learning_rate',0.01,0.1),\n",
      "\u001b[32m[I 2023-04-28 15:30:28,914]\u001b[0m Trial 24 finished with value: 0.8116943521594685 and parameters: {'learning_rate': 0.017135286707753803, 'max_depth': 7, 'n_estimators': 185}. Best is trial 15 with value: 0.8137679955703211.\u001b[0m\n",
      "/tmp/ipykernel_830658/2141867322.py:7: FutureWarning: suggest_loguniform has been deprecated in v3.0.0. This feature will be removed in v6.0.0. See https://github.com/optuna/optuna/releases/tag/v3.0.0. Use :func:`~optuna.trial.Trial.suggest_float` instead.\n",
      "  'learning_rate':trial.suggest_loguniform('learning_rate',0.01,0.1),\n",
      "\u001b[32m[I 2023-04-28 15:30:29,550]\u001b[0m Trial 25 finished with value: 0.8127782392026578 and parameters: {'learning_rate': 0.012201856707448727, 'max_depth': 6, 'n_estimators': 163}. Best is trial 15 with value: 0.8137679955703211.\u001b[0m\n",
      "/tmp/ipykernel_830658/2141867322.py:7: FutureWarning: suggest_loguniform has been deprecated in v3.0.0. This feature will be removed in v6.0.0. See https://github.com/optuna/optuna/releases/tag/v3.0.0. Use :func:`~optuna.trial.Trial.suggest_float` instead.\n",
      "  'learning_rate':trial.suggest_loguniform('learning_rate',0.01,0.1),\n",
      "\u001b[32m[I 2023-04-28 15:30:31,004]\u001b[0m Trial 26 finished with value: 0.8126716500553709 and parameters: {'learning_rate': 0.01032061885273766, 'max_depth': 9, 'n_estimators': 303}. Best is trial 15 with value: 0.8137679955703211.\u001b[0m\n",
      "/tmp/ipykernel_830658/2141867322.py:7: FutureWarning: suggest_loguniform has been deprecated in v3.0.0. This feature will be removed in v6.0.0. See https://github.com/optuna/optuna/releases/tag/v3.0.0. Use :func:`~optuna.trial.Trial.suggest_float` instead.\n",
      "  'learning_rate':trial.suggest_loguniform('learning_rate',0.01,0.1),\n",
      "\u001b[32m[I 2023-04-28 15:30:31,713]\u001b[0m Trial 27 finished with value: 0.8124460132890364 and parameters: {'learning_rate': 0.015667524283520102, 'max_depth': 8, 'n_estimators': 165}. Best is trial 15 with value: 0.8137679955703211.\u001b[0m\n",
      "/tmp/ipykernel_830658/2141867322.py:7: FutureWarning: suggest_loguniform has been deprecated in v3.0.0. This feature will be removed in v6.0.0. See https://github.com/optuna/optuna/releases/tag/v3.0.0. Use :func:`~optuna.trial.Trial.suggest_float` instead.\n",
      "  'learning_rate':trial.suggest_loguniform('learning_rate',0.01,0.1),\n",
      "\u001b[32m[I 2023-04-28 15:30:33,116]\u001b[0m Trial 28 finished with value: 0.8013981173864895 and parameters: {'learning_rate': 0.013461377508349793, 'max_depth': 7, 'n_estimators': 378}. Best is trial 15 with value: 0.8137679955703211.\u001b[0m\n",
      "/tmp/ipykernel_830658/2141867322.py:7: FutureWarning: suggest_loguniform has been deprecated in v3.0.0. This feature will be removed in v6.0.0. See https://github.com/optuna/optuna/releases/tag/v3.0.0. Use :func:`~optuna.trial.Trial.suggest_float` instead.\n",
      "  'learning_rate':trial.suggest_loguniform('learning_rate',0.01,0.1),\n",
      "\u001b[32m[I 2023-04-28 15:30:34,069]\u001b[0m Trial 29 finished with value: 0.8130578626799558 and parameters: {'learning_rate': 0.012376059767840434, 'max_depth': 7, 'n_estimators': 239}. Best is trial 15 with value: 0.8137679955703211.\u001b[0m\n",
      "/tmp/ipykernel_830658/2141867322.py:7: FutureWarning: suggest_loguniform has been deprecated in v3.0.0. This feature will be removed in v6.0.0. See https://github.com/optuna/optuna/releases/tag/v3.0.0. Use :func:`~optuna.trial.Trial.suggest_float` instead.\n",
      "  'learning_rate':trial.suggest_loguniform('learning_rate',0.01,0.1),\n",
      "\u001b[32m[I 2023-04-28 15:30:34,678]\u001b[0m Trial 30 finished with value: 0.8119836655592468 and parameters: {'learning_rate': 0.022207982888909936, 'max_depth': 8, 'n_estimators': 140}. Best is trial 15 with value: 0.8137679955703211.\u001b[0m\n",
      "/tmp/ipykernel_830658/2141867322.py:7: FutureWarning: suggest_loguniform has been deprecated in v3.0.0. This feature will be removed in v6.0.0. See https://github.com/optuna/optuna/releases/tag/v3.0.0. Use :func:`~optuna.trial.Trial.suggest_float` instead.\n",
      "  'learning_rate':trial.suggest_loguniform('learning_rate',0.01,0.1),\n",
      "\u001b[32m[I 2023-04-28 15:30:35,604]\u001b[0m Trial 31 finished with value: 0.8117787929125138 and parameters: {'learning_rate': 0.011986185059542761, 'max_depth': 7, 'n_estimators': 211}. Best is trial 15 with value: 0.8137679955703211.\u001b[0m\n",
      "/tmp/ipykernel_830658/2141867322.py:7: FutureWarning: suggest_loguniform has been deprecated in v3.0.0. This feature will be removed in v6.0.0. See https://github.com/optuna/optuna/releases/tag/v3.0.0. Use :func:`~optuna.trial.Trial.suggest_float` instead.\n",
      "  'learning_rate':trial.suggest_loguniform('learning_rate',0.01,0.1),\n",
      "\u001b[32m[I 2023-04-28 15:30:36,649]\u001b[0m Trial 32 finished with value: 0.8130121816168329 and parameters: {'learning_rate': 0.012603690766155574, 'max_depth': 6, 'n_estimators': 256}. Best is trial 15 with value: 0.8137679955703211.\u001b[0m\n",
      "/tmp/ipykernel_830658/2141867322.py:7: FutureWarning: suggest_loguniform has been deprecated in v3.0.0. This feature will be removed in v6.0.0. See https://github.com/optuna/optuna/releases/tag/v3.0.0. Use :func:`~optuna.trial.Trial.suggest_float` instead.\n",
      "  'learning_rate':trial.suggest_loguniform('learning_rate',0.01,0.1),\n",
      "\u001b[32m[I 2023-04-28 15:30:37,108]\u001b[0m Trial 33 finished with value: 0.8142884828349943 and parameters: {'learning_rate': 0.015121080803152765, 'max_depth': 7, 'n_estimators': 106}. Best is trial 33 with value: 0.8142884828349943.\u001b[0m\n",
      "/tmp/ipykernel_830658/2141867322.py:7: FutureWarning: suggest_loguniform has been deprecated in v3.0.0. This feature will be removed in v6.0.0. See https://github.com/optuna/optuna/releases/tag/v3.0.0. Use :func:`~optuna.trial.Trial.suggest_float` instead.\n",
      "  'learning_rate':trial.suggest_loguniform('learning_rate',0.01,0.1),\n",
      "\u001b[32m[I 2023-04-28 15:30:38,763]\u001b[0m Trial 34 finished with value: 0.7830841638981174 and parameters: {'learning_rate': 0.015493791685856849, 'max_depth': 5, 'n_estimators': 615}. Best is trial 33 with value: 0.8142884828349943.\u001b[0m\n",
      "/tmp/ipykernel_830658/2141867322.py:7: FutureWarning: suggest_loguniform has been deprecated in v3.0.0. This feature will be removed in v6.0.0. See https://github.com/optuna/optuna/releases/tag/v3.0.0. Use :func:`~optuna.trial.Trial.suggest_float` instead.\n",
      "  'learning_rate':trial.suggest_loguniform('learning_rate',0.01,0.1),\n",
      "\u001b[32m[I 2023-04-28 15:30:39,491]\u001b[0m Trial 35 finished with value: 0.8139784053156145 and parameters: {'learning_rate': 0.010003474837769971, 'max_depth': 8, 'n_estimators': 158}. Best is trial 33 with value: 0.8142884828349943.\u001b[0m\n",
      "/tmp/ipykernel_830658/2141867322.py:7: FutureWarning: suggest_loguniform has been deprecated in v3.0.0. This feature will be removed in v6.0.0. See https://github.com/optuna/optuna/releases/tag/v3.0.0. Use :func:`~optuna.trial.Trial.suggest_float` instead.\n",
      "  'learning_rate':trial.suggest_loguniform('learning_rate',0.01,0.1),\n",
      "\u001b[32m[I 2023-04-28 15:30:40,414]\u001b[0m Trial 36 finished with value: 0.8135022148394242 and parameters: {'learning_rate': 0.01004660861314783, 'max_depth': 9, 'n_estimators': 218}. Best is trial 33 with value: 0.8142884828349943.\u001b[0m\n",
      "/tmp/ipykernel_830658/2141867322.py:7: FutureWarning: suggest_loguniform has been deprecated in v3.0.0. This feature will be removed in v6.0.0. See https://github.com/optuna/optuna/releases/tag/v3.0.0. Use :func:`~optuna.trial.Trial.suggest_float` instead.\n",
      "  'learning_rate':trial.suggest_loguniform('learning_rate',0.01,0.1),\n",
      "\u001b[32m[I 2023-04-28 15:30:41,342]\u001b[0m Trial 37 finished with value: 0.8133291805094129 and parameters: {'learning_rate': 0.010222354760656601, 'max_depth': 9, 'n_estimators': 218}. Best is trial 33 with value: 0.8142884828349943.\u001b[0m\n",
      "/tmp/ipykernel_830658/2141867322.py:7: FutureWarning: suggest_loguniform has been deprecated in v3.0.0. This feature will be removed in v6.0.0. See https://github.com/optuna/optuna/releases/tag/v3.0.0. Use :func:`~optuna.trial.Trial.suggest_float` instead.\n",
      "  'learning_rate':trial.suggest_loguniform('learning_rate',0.01,0.1),\n",
      "\u001b[32m[I 2023-04-28 15:30:42,103]\u001b[0m Trial 38 finished with value: 0.8140102436323365 and parameters: {'learning_rate': 0.011352595639195832, 'max_depth': 9, 'n_estimators': 177}. Best is trial 33 with value: 0.8142884828349943.\u001b[0m\n",
      "/tmp/ipykernel_830658/2141867322.py:7: FutureWarning: suggest_loguniform has been deprecated in v3.0.0. This feature will be removed in v6.0.0. See https://github.com/optuna/optuna/releases/tag/v3.0.0. Use :func:`~optuna.trial.Trial.suggest_float` instead.\n",
      "  'learning_rate':trial.suggest_loguniform('learning_rate',0.01,0.1),\n",
      "\u001b[32m[I 2023-04-28 15:30:43,617]\u001b[0m Trial 39 finished with value: 0.8058388704318936 and parameters: {'learning_rate': 0.01159951396383612, 'max_depth': 9, 'n_estimators': 366}. Best is trial 33 with value: 0.8142884828349943.\u001b[0m\n",
      "/tmp/ipykernel_830658/2141867322.py:7: FutureWarning: suggest_loguniform has been deprecated in v3.0.0. This feature will be removed in v6.0.0. See https://github.com/optuna/optuna/releases/tag/v3.0.0. Use :func:`~optuna.trial.Trial.suggest_float` instead.\n",
      "  'learning_rate':trial.suggest_loguniform('learning_rate',0.01,0.1),\n",
      "\u001b[32m[I 2023-04-28 15:30:46,602]\u001b[0m Trial 40 finished with value: 0.7828862126245847 and parameters: {'learning_rate': 0.013506498756858899, 'max_depth': 9, 'n_estimators': 724}. Best is trial 33 with value: 0.8142884828349943.\u001b[0m\n",
      "/tmp/ipykernel_830658/2141867322.py:7: FutureWarning: suggest_loguniform has been deprecated in v3.0.0. This feature will be removed in v6.0.0. See https://github.com/optuna/optuna/releases/tag/v3.0.0. Use :func:`~optuna.trial.Trial.suggest_float` instead.\n",
      "  'learning_rate':trial.suggest_loguniform('learning_rate',0.01,0.1),\n",
      "\u001b[32m[I 2023-04-28 15:30:47,341]\u001b[0m Trial 41 finished with value: 0.8137389258028793 and parameters: {'learning_rate': 0.010164324378271958, 'max_depth': 9, 'n_estimators': 168}. Best is trial 33 with value: 0.8142884828349943.\u001b[0m\n",
      "/tmp/ipykernel_830658/2141867322.py:7: FutureWarning: suggest_loguniform has been deprecated in v3.0.0. This feature will be removed in v6.0.0. See https://github.com/optuna/optuna/releases/tag/v3.0.0. Use :func:`~optuna.trial.Trial.suggest_float` instead.\n",
      "  'learning_rate':trial.suggest_loguniform('learning_rate',0.01,0.1),\n",
      "\u001b[32m[I 2023-04-28 15:30:48,001]\u001b[0m Trial 42 finished with value: 0.8140891472868217 and parameters: {'learning_rate': 0.01162010568951299, 'max_depth': 9, 'n_estimators': 150}. Best is trial 33 with value: 0.8142884828349943.\u001b[0m\n",
      "/tmp/ipykernel_830658/2141867322.py:7: FutureWarning: suggest_loguniform has been deprecated in v3.0.0. This feature will be removed in v6.0.0. See https://github.com/optuna/optuna/releases/tag/v3.0.0. Use :func:`~optuna.trial.Trial.suggest_float` instead.\n",
      "  'learning_rate':trial.suggest_loguniform('learning_rate',0.01,0.1),\n",
      "\u001b[32m[I 2023-04-28 15:30:48,650]\u001b[0m Trial 43 finished with value: 0.8152297895902547 and parameters: {'learning_rate': 0.011354550288050548, 'max_depth': 8, 'n_estimators': 149}. Best is trial 43 with value: 0.8152297895902547.\u001b[0m\n",
      "/tmp/ipykernel_830658/2141867322.py:7: FutureWarning: suggest_loguniform has been deprecated in v3.0.0. This feature will be removed in v6.0.0. See https://github.com/optuna/optuna/releases/tag/v3.0.0. Use :func:`~optuna.trial.Trial.suggest_float` instead.\n",
      "  'learning_rate':trial.suggest_loguniform('learning_rate',0.01,0.1),\n",
      "\u001b[32m[I 2023-04-28 15:30:49,854]\u001b[0m Trial 44 finished with value: 0.8115088593576966 and parameters: {'learning_rate': 0.01120539105886867, 'max_depth': 9, 'n_estimators': 284}. Best is trial 43 with value: 0.8152297895902547.\u001b[0m\n",
      "/tmp/ipykernel_830658/2141867322.py:7: FutureWarning: suggest_loguniform has been deprecated in v3.0.0. This feature will be removed in v6.0.0. See https://github.com/optuna/optuna/releases/tag/v3.0.0. Use :func:`~optuna.trial.Trial.suggest_float` instead.\n",
      "  'learning_rate':trial.suggest_loguniform('learning_rate',0.01,0.1),\n",
      "\u001b[32m[I 2023-04-28 15:30:50,501]\u001b[0m Trial 45 finished with value: 0.8137583056478406 and parameters: {'learning_rate': 0.011228362812279747, 'max_depth': 8, 'n_estimators': 148}. Best is trial 43 with value: 0.8152297895902547.\u001b[0m\n",
      "/tmp/ipykernel_830658/2141867322.py:7: FutureWarning: suggest_loguniform has been deprecated in v3.0.0. This feature will be removed in v6.0.0. See https://github.com/optuna/optuna/releases/tag/v3.0.0. Use :func:`~optuna.trial.Trial.suggest_float` instead.\n",
      "  'learning_rate':trial.suggest_loguniform('learning_rate',0.01,0.1),\n",
      "\u001b[32m[I 2023-04-28 15:30:51,349]\u001b[0m Trial 46 finished with value: 0.8128820598006644 and parameters: {'learning_rate': 0.013649353342988228, 'max_depth': 8, 'n_estimators': 204}. Best is trial 43 with value: 0.8152297895902547.\u001b[0m\n",
      "/tmp/ipykernel_830658/2141867322.py:7: FutureWarning: suggest_loguniform has been deprecated in v3.0.0. This feature will be removed in v6.0.0. See https://github.com/optuna/optuna/releases/tag/v3.0.0. Use :func:`~optuna.trial.Trial.suggest_float` instead.\n",
      "  'learning_rate':trial.suggest_loguniform('learning_rate',0.01,0.1),\n",
      "\u001b[32m[I 2023-04-28 15:30:51,991]\u001b[0m Trial 47 finished with value: 0.813999169435216 and parameters: {'learning_rate': 0.01148128390867747, 'max_depth': 9, 'n_estimators': 147}. Best is trial 43 with value: 0.8152297895902547.\u001b[0m\n",
      "/tmp/ipykernel_830658/2141867322.py:7: FutureWarning: suggest_loguniform has been deprecated in v3.0.0. This feature will be removed in v6.0.0. See https://github.com/optuna/optuna/releases/tag/v3.0.0. Use :func:`~optuna.trial.Trial.suggest_float` instead.\n",
      "  'learning_rate':trial.suggest_loguniform('learning_rate',0.01,0.1),\n",
      "\u001b[32m[I 2023-04-28 15:30:55,889]\u001b[0m Trial 48 finished with value: 0.7780274086378737 and parameters: {'learning_rate': 0.011388988646143561, 'max_depth': 9, 'n_estimators': 954}. Best is trial 43 with value: 0.8152297895902547.\u001b[0m\n",
      "/tmp/ipykernel_830658/2141867322.py:7: FutureWarning: suggest_loguniform has been deprecated in v3.0.0. This feature will be removed in v6.0.0. See https://github.com/optuna/optuna/releases/tag/v3.0.0. Use :func:`~optuna.trial.Trial.suggest_float` instead.\n",
      "  'learning_rate':trial.suggest_loguniform('learning_rate',0.01,0.1),\n",
      "\u001b[32m[I 2023-04-28 15:30:57,318]\u001b[0m Trial 49 finished with value: 0.8044407530454041 and parameters: {'learning_rate': 0.014500612941585202, 'max_depth': 9, 'n_estimators': 342}. Best is trial 43 with value: 0.8152297895902547.\u001b[0m\n"
     ]
    },
    {
     "name": "stdout",
     "output_type": "stream",
     "text": [
      "Best hyperparameters: {'learning_rate': 0.011354550288050548, 'max_depth': 8, 'n_estimators': 149}\n",
      "Best AUC: 0.8152\n"
     ]
    }
   ],
   "source": [
    "def objective(trial):\n",
    "    # Define hyperparameters to optimize \n",
    "    params={\n",
    "        'boosting_type':'gbdt',\n",
    "        'objective':'binary',\n",
    "        'metric':'binary_logloss',\n",
    "        'learning_rate':trial.suggest_loguniform('learning_rate',0.01,0.1),\n",
    "        'max_depth':trial.suggest_int('max_depth',3,9),\n",
    "        'n_estimators':trial.suggest_int(\"n_estimators\",100,1000)\n",
    "    }\n",
    "    # Train and evaluate model \n",
    "    lgb_cv=lgb.LGBMClassifier(**params, random_state=42,scale_pos_weight=ratio)\n",
    "    scores=cross_val_score(lgb_cv,train_X,train_y,cv=5,scoring='roc_auc')\n",
    "    auc=scores.mean()\n",
    "    return auc \n",
    "\n",
    "# Define study object and optimize \n",
    "\n",
    "study=optuna.create_study(direction='maximize',study_name='lgb_boost_opt',load_if_exists=True)\n",
    "study.optimize(objective, n_trials=50)\n",
    "\n",
    "# Print best hyperparameters and auc\n",
    "print(f'Best hyperparameters: {study.best_params}')\n",
    "print(f'Best AUC: {study.best_value:.4f}')"
   ]
  },
  {
   "cell_type": "code",
   "execution_count": 7,
   "metadata": {},
   "outputs": [],
   "source": [
    "lgb=lgb.LGBMClassifier(learning_rate= 0.011354550288050548,max_depth=8,n_estimators=149,scale_pos_weight=ratio,random_state=42)"
   ]
  },
  {
   "cell_type": "code",
   "execution_count": 8,
   "metadata": {},
   "outputs": [
    {
     "data": {
      "text/html": [
       "<style>#sk-container-id-1 {color: black;background-color: white;}#sk-container-id-1 pre{padding: 0;}#sk-container-id-1 div.sk-toggleable {background-color: white;}#sk-container-id-1 label.sk-toggleable__label {cursor: pointer;display: block;width: 100%;margin-bottom: 0;padding: 0.3em;box-sizing: border-box;text-align: center;}#sk-container-id-1 label.sk-toggleable__label-arrow:before {content: \"▸\";float: left;margin-right: 0.25em;color: #696969;}#sk-container-id-1 label.sk-toggleable__label-arrow:hover:before {color: black;}#sk-container-id-1 div.sk-estimator:hover label.sk-toggleable__label-arrow:before {color: black;}#sk-container-id-1 div.sk-toggleable__content {max-height: 0;max-width: 0;overflow: hidden;text-align: left;background-color: #f0f8ff;}#sk-container-id-1 div.sk-toggleable__content pre {margin: 0.2em;color: black;border-radius: 0.25em;background-color: #f0f8ff;}#sk-container-id-1 input.sk-toggleable__control:checked~div.sk-toggleable__content {max-height: 200px;max-width: 100%;overflow: auto;}#sk-container-id-1 input.sk-toggleable__control:checked~label.sk-toggleable__label-arrow:before {content: \"▾\";}#sk-container-id-1 div.sk-estimator input.sk-toggleable__control:checked~label.sk-toggleable__label {background-color: #d4ebff;}#sk-container-id-1 div.sk-label input.sk-toggleable__control:checked~label.sk-toggleable__label {background-color: #d4ebff;}#sk-container-id-1 input.sk-hidden--visually {border: 0;clip: rect(1px 1px 1px 1px);clip: rect(1px, 1px, 1px, 1px);height: 1px;margin: -1px;overflow: hidden;padding: 0;position: absolute;width: 1px;}#sk-container-id-1 div.sk-estimator {font-family: monospace;background-color: #f0f8ff;border: 1px dotted black;border-radius: 0.25em;box-sizing: border-box;margin-bottom: 0.5em;}#sk-container-id-1 div.sk-estimator:hover {background-color: #d4ebff;}#sk-container-id-1 div.sk-parallel-item::after {content: \"\";width: 100%;border-bottom: 1px solid gray;flex-grow: 1;}#sk-container-id-1 div.sk-label:hover label.sk-toggleable__label {background-color: #d4ebff;}#sk-container-id-1 div.sk-serial::before {content: \"\";position: absolute;border-left: 1px solid gray;box-sizing: border-box;top: 0;bottom: 0;left: 50%;z-index: 0;}#sk-container-id-1 div.sk-serial {display: flex;flex-direction: column;align-items: center;background-color: white;padding-right: 0.2em;padding-left: 0.2em;position: relative;}#sk-container-id-1 div.sk-item {position: relative;z-index: 1;}#sk-container-id-1 div.sk-parallel {display: flex;align-items: stretch;justify-content: center;background-color: white;position: relative;}#sk-container-id-1 div.sk-item::before, #sk-container-id-1 div.sk-parallel-item::before {content: \"\";position: absolute;border-left: 1px solid gray;box-sizing: border-box;top: 0;bottom: 0;left: 50%;z-index: -1;}#sk-container-id-1 div.sk-parallel-item {display: flex;flex-direction: column;z-index: 1;position: relative;background-color: white;}#sk-container-id-1 div.sk-parallel-item:first-child::after {align-self: flex-end;width: 50%;}#sk-container-id-1 div.sk-parallel-item:last-child::after {align-self: flex-start;width: 50%;}#sk-container-id-1 div.sk-parallel-item:only-child::after {width: 0;}#sk-container-id-1 div.sk-dashed-wrapped {border: 1px dashed gray;margin: 0 0.4em 0.5em 0.4em;box-sizing: border-box;padding-bottom: 0.4em;background-color: white;}#sk-container-id-1 div.sk-label label {font-family: monospace;font-weight: bold;display: inline-block;line-height: 1.2em;}#sk-container-id-1 div.sk-label-container {text-align: center;}#sk-container-id-1 div.sk-container {/* jupyter's `normalize.less` sets `[hidden] { display: none; }` but bootstrap.min.css set `[hidden] { display: none !important; }` so we also need the `!important` here to be able to override the default hidden behavior on the sphinx rendered scikit-learn.org. See: https://github.com/scikit-learn/scikit-learn/issues/21755 */display: inline-block !important;position: relative;}#sk-container-id-1 div.sk-text-repr-fallback {display: none;}</style><div id=\"sk-container-id-1\" class=\"sk-top-container\"><div class=\"sk-text-repr-fallback\"><pre>LGBMClassifier(learning_rate=0.011354550288050548, max_depth=8,\n",
       "               n_estimators=149, random_state=42,\n",
       "               scale_pos_weight=1.8691588785046729)</pre><b>In a Jupyter environment, please rerun this cell to show the HTML representation or trust the notebook. <br />On GitHub, the HTML representation is unable to render, please try loading this page with nbviewer.org.</b></div><div class=\"sk-container\" hidden><div class=\"sk-item\"><div class=\"sk-estimator sk-toggleable\"><input class=\"sk-toggleable__control sk-hidden--visually\" id=\"sk-estimator-id-1\" type=\"checkbox\" checked><label for=\"sk-estimator-id-1\" class=\"sk-toggleable__label sk-toggleable__label-arrow\">LGBMClassifier</label><div class=\"sk-toggleable__content\"><pre>LGBMClassifier(learning_rate=0.011354550288050548, max_depth=8,\n",
       "               n_estimators=149, random_state=42,\n",
       "               scale_pos_weight=1.8691588785046729)</pre></div></div></div></div></div>"
      ],
      "text/plain": [
       "LGBMClassifier(learning_rate=0.011354550288050548, max_depth=8,\n",
       "               n_estimators=149, random_state=42,\n",
       "               scale_pos_weight=1.8691588785046729)"
      ]
     },
     "execution_count": 8,
     "metadata": {},
     "output_type": "execute_result"
    }
   ],
   "source": [
    "# 모델 학습하기\n",
    "\n",
    "lgb.fit(train_X,train_y)"
   ]
  },
  {
   "cell_type": "code",
   "execution_count": 9,
   "metadata": {},
   "outputs": [],
   "source": [
    "# 모델의 성능(AUC)을 평가하기 위해 예측된 클래스가 당뇨병환자일 확률 구하기\n",
    "train_prob=pd.DataFrame()\n",
    "train_prob['prob']=lgb.predict_proba(train_X)[:,1]"
   ]
  },
  {
   "cell_type": "code",
   "execution_count": 10,
   "metadata": {},
   "outputs": [],
   "source": [
    "# 오즈(odds) 구하기\n",
    "\n",
    "train_prob['1_prob']=1-train_prob['prob']\n",
    "train_prob['odds']=train_prob['prob']/train_prob['1_prob']"
   ]
  },
  {
   "cell_type": "code",
   "execution_count": 11,
   "metadata": {},
   "outputs": [],
   "source": [
    "# 앞에서 구한 오즈로 로짓을 구하기\n",
    "\n",
    "train_prob['loogits']=np.log(train_prob['odds'])"
   ]
  },
  {
   "cell_type": "code",
   "execution_count": 28,
   "metadata": {},
   "outputs": [],
   "source": [
    "# loogits으로 test data의 예측확률 값을 구하기\n",
    "\n",
    "train_prob['new_prob']=1/(1+np.exp(-train_prob['loogits']/0.1))"
   ]
  },
  {
   "cell_type": "code",
   "execution_count": 29,
   "metadata": {},
   "outputs": [],
   "source": [
    "import optuna\n",
    "from lightgbm import LGBMRegressor\n",
    "\n",
    "model2 = LGBMRegressor(n_estimators=653,max_depth=4,learning_rate=0.08674094387313179)"
   ]
  },
  {
   "cell_type": "code",
   "execution_count": 30,
   "metadata": {},
   "outputs": [
    {
     "data": {
      "text/plain": [
       "614"
      ]
     },
     "execution_count": 30,
     "metadata": {},
     "output_type": "execute_result"
    }
   ],
   "source": [
    "len(list(train_prob['new_prob']))"
   ]
  },
  {
   "cell_type": "code",
   "execution_count": 31,
   "metadata": {},
   "outputs": [
    {
     "data": {
      "text/plain": [
       "614"
      ]
     },
     "execution_count": 31,
     "metadata": {},
     "output_type": "execute_result"
    }
   ],
   "source": [
    "len(train_X)"
   ]
  },
  {
   "cell_type": "code",
   "execution_count": 32,
   "metadata": {},
   "outputs": [
    {
     "data": {
      "text/html": [
       "<style>#sk-container-id-4 {color: black;background-color: white;}#sk-container-id-4 pre{padding: 0;}#sk-container-id-4 div.sk-toggleable {background-color: white;}#sk-container-id-4 label.sk-toggleable__label {cursor: pointer;display: block;width: 100%;margin-bottom: 0;padding: 0.3em;box-sizing: border-box;text-align: center;}#sk-container-id-4 label.sk-toggleable__label-arrow:before {content: \"▸\";float: left;margin-right: 0.25em;color: #696969;}#sk-container-id-4 label.sk-toggleable__label-arrow:hover:before {color: black;}#sk-container-id-4 div.sk-estimator:hover label.sk-toggleable__label-arrow:before {color: black;}#sk-container-id-4 div.sk-toggleable__content {max-height: 0;max-width: 0;overflow: hidden;text-align: left;background-color: #f0f8ff;}#sk-container-id-4 div.sk-toggleable__content pre {margin: 0.2em;color: black;border-radius: 0.25em;background-color: #f0f8ff;}#sk-container-id-4 input.sk-toggleable__control:checked~div.sk-toggleable__content {max-height: 200px;max-width: 100%;overflow: auto;}#sk-container-id-4 input.sk-toggleable__control:checked~label.sk-toggleable__label-arrow:before {content: \"▾\";}#sk-container-id-4 div.sk-estimator input.sk-toggleable__control:checked~label.sk-toggleable__label {background-color: #d4ebff;}#sk-container-id-4 div.sk-label input.sk-toggleable__control:checked~label.sk-toggleable__label {background-color: #d4ebff;}#sk-container-id-4 input.sk-hidden--visually {border: 0;clip: rect(1px 1px 1px 1px);clip: rect(1px, 1px, 1px, 1px);height: 1px;margin: -1px;overflow: hidden;padding: 0;position: absolute;width: 1px;}#sk-container-id-4 div.sk-estimator {font-family: monospace;background-color: #f0f8ff;border: 1px dotted black;border-radius: 0.25em;box-sizing: border-box;margin-bottom: 0.5em;}#sk-container-id-4 div.sk-estimator:hover {background-color: #d4ebff;}#sk-container-id-4 div.sk-parallel-item::after {content: \"\";width: 100%;border-bottom: 1px solid gray;flex-grow: 1;}#sk-container-id-4 div.sk-label:hover label.sk-toggleable__label {background-color: #d4ebff;}#sk-container-id-4 div.sk-serial::before {content: \"\";position: absolute;border-left: 1px solid gray;box-sizing: border-box;top: 0;bottom: 0;left: 50%;z-index: 0;}#sk-container-id-4 div.sk-serial {display: flex;flex-direction: column;align-items: center;background-color: white;padding-right: 0.2em;padding-left: 0.2em;position: relative;}#sk-container-id-4 div.sk-item {position: relative;z-index: 1;}#sk-container-id-4 div.sk-parallel {display: flex;align-items: stretch;justify-content: center;background-color: white;position: relative;}#sk-container-id-4 div.sk-item::before, #sk-container-id-4 div.sk-parallel-item::before {content: \"\";position: absolute;border-left: 1px solid gray;box-sizing: border-box;top: 0;bottom: 0;left: 50%;z-index: -1;}#sk-container-id-4 div.sk-parallel-item {display: flex;flex-direction: column;z-index: 1;position: relative;background-color: white;}#sk-container-id-4 div.sk-parallel-item:first-child::after {align-self: flex-end;width: 50%;}#sk-container-id-4 div.sk-parallel-item:last-child::after {align-self: flex-start;width: 50%;}#sk-container-id-4 div.sk-parallel-item:only-child::after {width: 0;}#sk-container-id-4 div.sk-dashed-wrapped {border: 1px dashed gray;margin: 0 0.4em 0.5em 0.4em;box-sizing: border-box;padding-bottom: 0.4em;background-color: white;}#sk-container-id-4 div.sk-label label {font-family: monospace;font-weight: bold;display: inline-block;line-height: 1.2em;}#sk-container-id-4 div.sk-label-container {text-align: center;}#sk-container-id-4 div.sk-container {/* jupyter's `normalize.less` sets `[hidden] { display: none; }` but bootstrap.min.css set `[hidden] { display: none !important; }` so we also need the `!important` here to be able to override the default hidden behavior on the sphinx rendered scikit-learn.org. See: https://github.com/scikit-learn/scikit-learn/issues/21755 */display: inline-block !important;position: relative;}#sk-container-id-4 div.sk-text-repr-fallback {display: none;}</style><div id=\"sk-container-id-4\" class=\"sk-top-container\"><div class=\"sk-text-repr-fallback\"><pre>LGBMRegressor(learning_rate=0.08674094387313179, max_depth=4, n_estimators=653)</pre><b>In a Jupyter environment, please rerun this cell to show the HTML representation or trust the notebook. <br />On GitHub, the HTML representation is unable to render, please try loading this page with nbviewer.org.</b></div><div class=\"sk-container\" hidden><div class=\"sk-item\"><div class=\"sk-estimator sk-toggleable\"><input class=\"sk-toggleable__control sk-hidden--visually\" id=\"sk-estimator-id-4\" type=\"checkbox\" checked><label for=\"sk-estimator-id-4\" class=\"sk-toggleable__label sk-toggleable__label-arrow\">LGBMRegressor</label><div class=\"sk-toggleable__content\"><pre>LGBMRegressor(learning_rate=0.08674094387313179, max_depth=4, n_estimators=653)</pre></div></div></div></div></div>"
      ],
      "text/plain": [
       "LGBMRegressor(learning_rate=0.08674094387313179, max_depth=4, n_estimators=653)"
      ]
     },
     "execution_count": 32,
     "metadata": {},
     "output_type": "execute_result"
    }
   ],
   "source": [
    "model2.fit(train_X,train_prob['new_prob'])"
   ]
  },
  {
   "cell_type": "code",
   "execution_count": 33,
   "metadata": {},
   "outputs": [],
   "source": [
    "# model로 new_test_data_X로 predict하기\n",
    "\n",
    "test_data=pd.DataFrame()\n",
    "test_data['prob']=model2.predict(new_test_data_X)"
   ]
  },
  {
   "cell_type": "code",
   "execution_count": null,
   "metadata": {},
   "outputs": [],
   "source": []
  },
  {
   "cell_type": "code",
   "execution_count": 34,
   "metadata": {},
   "outputs": [],
   "source": [
    "# 모델 성능 평가함수 만들기\n",
    "\n",
    "from sklearn.metrics import accuracy_score, precision_score, recall_score, confusion_matrix, f1_score\n",
    "\n",
    "def get_clf_prob(y_test, probability):\n",
    "  pred=np.where(probability > 0.5,1,0)\n",
    "  confusion=confusion_matrix(y_test, pred)\n",
    "  accuracy=accuracy_score(y_test,pred)\n",
    "  precision=precision_score(y_test,pred) \n",
    "  recall=recall_score(y_test,pred) \n",
    "  # F1 스코어 추가 \n",
    "  f1=f1_score(y_test,pred,average='macro')\n",
    "  Roc_score=roc_auc_score(y_test,probability)\n",
    "  print('임계값: ', 0.5) \n",
    "  print('오차행렬')\n",
    "  print(confusion) \n",
    "  # f1 score print 추가 \n",
    "  print('정확도: {0:.4f}, 정밀도: {1:.4f}, 재현율: {2:.4f}, F1:{3:.4f}, AUC:{4: .4f}'.format(accuracy,precision,recall,f1,Roc_score))"
   ]
  },
  {
   "cell_type": "code",
   "execution_count": 35,
   "metadata": {},
   "outputs": [
    {
     "name": "stdout",
     "output_type": "stream",
     "text": [
      "임계값:  0.5\n",
      "오차행렬\n",
      "[[81 19]\n",
      " [19 35]]\n",
      "정확도: 0.7532, 정밀도: 0.6481, 재현율: 0.6481, F1:0.7291, AUC: 0.8143\n"
     ]
    }
   ],
   "source": [
    "# 모델 평가하기\n",
    "\n",
    "get_clf_prob(new_test_data_y,test_data['prob'])"
   ]
  },
  {
   "cell_type": "code",
   "execution_count": null,
   "metadata": {},
   "outputs": [],
   "source": []
  }
 ],
 "metadata": {
  "kernelspec": {
   "display_name": "Python 3",
   "language": "python",
   "name": "python3"
  },
  "language_info": {
   "codemirror_mode": {
    "name": "ipython",
    "version": 3
   },
   "file_extension": ".py",
   "mimetype": "text/x-python",
   "name": "python",
   "nbconvert_exporter": "python",
   "pygments_lexer": "ipython3",
   "version": "3.8.10"
  },
  "orig_nbformat": 4
 },
 "nbformat": 4,
 "nbformat_minor": 2
}
