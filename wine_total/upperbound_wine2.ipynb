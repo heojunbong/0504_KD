{
 "cells": [
  {
   "cell_type": "code",
   "execution_count": 12,
   "metadata": {},
   "outputs": [],
   "source": [
    "# 필요한 라이브러리 import하기\n",
    "\n",
    "import pandas as pd \n",
    "import numpy as np \n",
    "import matplotlib.pyplot as plt \n",
    "import optuna \n",
    "import lightgbm as lgb \n",
    "from sklearn.metrics import accuracy_score, roc_auc_score,precision_score, confusion_matrix,recall_score \n",
    "from sklearn.model_selection import cross_val_score, train_test_split\n",
    "import os "
   ]
  },
  {
   "cell_type": "code",
   "execution_count": 13,
   "metadata": {},
   "outputs": [],
   "source": [
    "# train data와 test data 로드하기\n",
    "\n",
    "train_data=pd.read_csv('/dshome/WoongLab/heo/construction_oil/preprocessed_data/wine_train_data.csv')\n",
    "test_data=pd.read_csv('/dshome/WoongLab/heo/construction_oil/preprocessed_data/wine_test_data.csv')"
   ]
  },
  {
   "cell_type": "code",
   "execution_count": 14,
   "metadata": {},
   "outputs": [
    {
     "name": "stdout",
     "output_type": "stream",
     "text": [
      "<class 'pandas.core.frame.DataFrame'>\n",
      "RangeIndex: 1279 entries, 0 to 1278\n",
      "Data columns (total 12 columns):\n",
      " #   Column                Non-Null Count  Dtype  \n",
      "---  ------                --------------  -----  \n",
      " 0   fixed acidity         1279 non-null   float64\n",
      " 1   volatile acidity      1279 non-null   float64\n",
      " 2   citric acid           1279 non-null   float64\n",
      " 3   residual sugar        1279 non-null   float64\n",
      " 4   chlorides             1279 non-null   float64\n",
      " 5   free sulfur dioxide   1279 non-null   float64\n",
      " 6   total sulfur dioxide  1279 non-null   float64\n",
      " 7   density               1279 non-null   float64\n",
      " 8   pH                    1279 non-null   float64\n",
      " 9   sulphates             1279 non-null   float64\n",
      " 10  alcohol               1279 non-null   float64\n",
      " 11  quality               1279 non-null   int64  \n",
      "dtypes: float64(11), int64(1)\n",
      "memory usage: 120.0 KB\n"
     ]
    }
   ],
   "source": [
    "train_data.info()"
   ]
  },
  {
   "cell_type": "code",
   "execution_count": 15,
   "metadata": {},
   "outputs": [],
   "source": [
    "train_X=train_data.drop('quality',axis=1)\n",
    "train_y=train_data['quality']\n",
    "\n",
    "new_test_data_X=test_data.drop('quality',axis=1)\n",
    "new_test_data_y=test_data['quality']"
   ]
  },
  {
   "cell_type": "code",
   "execution_count": 16,
   "metadata": {},
   "outputs": [
    {
     "data": {
      "text/plain": [
       "0    684\n",
       "1    595\n",
       "Name: quality, dtype: int64"
      ]
     },
     "execution_count": 16,
     "metadata": {},
     "output_type": "execute_result"
    }
   ],
   "source": [
    "train_y.value_counts()"
   ]
  },
  {
   "cell_type": "code",
   "execution_count": 17,
   "metadata": {},
   "outputs": [],
   "source": [
    "# class weight 적용하기 위해 y label의 비율을 구하기\n",
    "\n",
    "ratio=train_y.value_counts()[0]/train_y.value_counts()[1]"
   ]
  },
  {
   "attachments": {},
   "cell_type": "markdown",
   "metadata": {},
   "source": [
    "## 베이지안 최적화해주기 - LightgbmClassifier\n",
    "\n",
    "**1. 5-fold 교차검증 이용해서 Train data로 Validation set을 Auc가 최고였을 때의 하이퍼파라미터 구하기**\n",
    "\n",
    "**2. Learning rate 0.01~0.1, max_depth 3~9, n_estimators 100~1000이었을 때에서 가장 최적의 하이퍼파라미터 구하기**"
   ]
  },
  {
   "cell_type": "code",
   "execution_count": 8,
   "metadata": {},
   "outputs": [
    {
     "name": "stderr",
     "output_type": "stream",
     "text": [
      "\u001b[32m[I 2023-04-28 13:26:05,096]\u001b[0m A new study created in memory with name: lgb_boost_opt\u001b[0m\n",
      "/tmp/ipykernel_827478/2141867322.py:7: FutureWarning: suggest_loguniform has been deprecated in v3.0.0. This feature will be removed in v6.0.0. See https://github.com/optuna/optuna/releases/tag/v3.0.0. Use :func:`~optuna.trial.Trial.suggest_float` instead.\n",
      "  'learning_rate':trial.suggest_loguniform('learning_rate',0.01,0.1),\n",
      "\u001b[32m[I 2023-04-28 13:26:08,520]\u001b[0m Trial 0 finished with value: 0.862408939531158 and parameters: {'learning_rate': 0.043960208687925204, 'max_depth': 7, 'n_estimators': 626}. Best is trial 0 with value: 0.862408939531158.\u001b[0m\n",
      "/tmp/ipykernel_827478/2141867322.py:7: FutureWarning: suggest_loguniform has been deprecated in v3.0.0. This feature will be removed in v6.0.0. See https://github.com/optuna/optuna/releases/tag/v3.0.0. Use :func:`~optuna.trial.Trial.suggest_float` instead.\n",
      "  'learning_rate':trial.suggest_loguniform('learning_rate',0.01,0.1),\n",
      "\u001b[32m[I 2023-04-28 13:26:09,636]\u001b[0m Trial 1 finished with value: 0.8554023799300742 and parameters: {'learning_rate': 0.018279813797724434, 'max_depth': 7, 'n_estimators': 182}. Best is trial 0 with value: 0.862408939531158.\u001b[0m\n",
      "/tmp/ipykernel_827478/2141867322.py:7: FutureWarning: suggest_loguniform has been deprecated in v3.0.0. This feature will be removed in v6.0.0. See https://github.com/optuna/optuna/releases/tag/v3.0.0. Use :func:`~optuna.trial.Trial.suggest_float` instead.\n",
      "  'learning_rate':trial.suggest_loguniform('learning_rate',0.01,0.1),\n",
      "\u001b[32m[I 2023-04-28 13:26:12,820]\u001b[0m Trial 2 finished with value: 0.8605857456765446 and parameters: {'learning_rate': 0.019690921657470696, 'max_depth': 6, 'n_estimators': 785}. Best is trial 0 with value: 0.862408939531158.\u001b[0m\n",
      "/tmp/ipykernel_827478/2141867322.py:7: FutureWarning: suggest_loguniform has been deprecated in v3.0.0. This feature will be removed in v6.0.0. See https://github.com/optuna/optuna/releases/tag/v3.0.0. Use :func:`~optuna.trial.Trial.suggest_float` instead.\n",
      "  'learning_rate':trial.suggest_loguniform('learning_rate',0.01,0.1),\n",
      "\u001b[32m[I 2023-04-28 13:26:13,672]\u001b[0m Trial 3 finished with value: 0.8435650602018395 and parameters: {'learning_rate': 0.030553518864925244, 'max_depth': 3, 'n_estimators': 493}. Best is trial 0 with value: 0.862408939531158.\u001b[0m\n",
      "/tmp/ipykernel_827478/2141867322.py:7: FutureWarning: suggest_loguniform has been deprecated in v3.0.0. This feature will be removed in v6.0.0. See https://github.com/optuna/optuna/releases/tag/v3.0.0. Use :func:`~optuna.trial.Trial.suggest_float` instead.\n",
      "  'learning_rate':trial.suggest_loguniform('learning_rate',0.01,0.1),\n",
      "\u001b[32m[I 2023-04-28 13:26:17,715]\u001b[0m Trial 4 finished with value: 0.8577373886437357 and parameters: {'learning_rate': 0.011202109322217829, 'max_depth': 6, 'n_estimators': 980}. Best is trial 0 with value: 0.862408939531158.\u001b[0m\n",
      "/tmp/ipykernel_827478/2141867322.py:7: FutureWarning: suggest_loguniform has been deprecated in v3.0.0. This feature will be removed in v6.0.0. See https://github.com/optuna/optuna/releases/tag/v3.0.0. Use :func:`~optuna.trial.Trial.suggest_float` instead.\n",
      "  'learning_rate':trial.suggest_loguniform('learning_rate',0.01,0.1),\n",
      "\u001b[32m[I 2023-04-28 13:26:18,477]\u001b[0m Trial 5 finished with value: 0.8551542300045825 and parameters: {'learning_rate': 0.05768271968348324, 'max_depth': 5, 'n_estimators': 219}. Best is trial 0 with value: 0.862408939531158.\u001b[0m\n",
      "/tmp/ipykernel_827478/2141867322.py:7: FutureWarning: suggest_loguniform has been deprecated in v3.0.0. This feature will be removed in v6.0.0. See https://github.com/optuna/optuna/releases/tag/v3.0.0. Use :func:`~optuna.trial.Trial.suggest_float` instead.\n",
      "  'learning_rate':trial.suggest_loguniform('learning_rate',0.01,0.1),\n",
      "\u001b[32m[I 2023-04-28 13:26:21,803]\u001b[0m Trial 6 finished with value: 0.8644365345966639 and parameters: {'learning_rate': 0.04257411026369962, 'max_depth': 7, 'n_estimators': 673}. Best is trial 6 with value: 0.8644365345966639.\u001b[0m\n",
      "/tmp/ipykernel_827478/2141867322.py:7: FutureWarning: suggest_loguniform has been deprecated in v3.0.0. This feature will be removed in v6.0.0. See https://github.com/optuna/optuna/releases/tag/v3.0.0. Use :func:`~optuna.trial.Trial.suggest_float` instead.\n",
      "  'learning_rate':trial.suggest_loguniform('learning_rate',0.01,0.1),\n",
      "\u001b[32m[I 2023-04-28 13:26:24,567]\u001b[0m Trial 7 finished with value: 0.8583211859239187 and parameters: {'learning_rate': 0.05046027782361932, 'max_depth': 5, 'n_estimators': 854}. Best is trial 6 with value: 0.8644365345966639.\u001b[0m\n",
      "/tmp/ipykernel_827478/2141867322.py:7: FutureWarning: suggest_loguniform has been deprecated in v3.0.0. This feature will be removed in v6.0.0. See https://github.com/optuna/optuna/releases/tag/v3.0.0. Use :func:`~optuna.trial.Trial.suggest_float` instead.\n",
      "  'learning_rate':trial.suggest_loguniform('learning_rate',0.01,0.1),\n",
      "\u001b[32m[I 2023-04-28 13:26:25,466]\u001b[0m Trial 8 finished with value: 0.8413008612633547 and parameters: {'learning_rate': 0.013163196883243678, 'max_depth': 3, 'n_estimators': 516}. Best is trial 6 with value: 0.8644365345966639.\u001b[0m\n",
      "/tmp/ipykernel_827478/2141867322.py:7: FutureWarning: suggest_loguniform has been deprecated in v3.0.0. This feature will be removed in v6.0.0. See https://github.com/optuna/optuna/releases/tag/v3.0.0. Use :func:`~optuna.trial.Trial.suggest_float` instead.\n",
      "  'learning_rate':trial.suggest_loguniform('learning_rate',0.01,0.1),\n",
      "\u001b[32m[I 2023-04-28 13:26:27,210]\u001b[0m Trial 9 finished with value: 0.8599211260287714 and parameters: {'learning_rate': 0.044332415621781834, 'max_depth': 6, 'n_estimators': 426}. Best is trial 6 with value: 0.8644365345966639.\u001b[0m\n",
      "/tmp/ipykernel_827478/2141867322.py:7: FutureWarning: suggest_loguniform has been deprecated in v3.0.0. This feature will be removed in v6.0.0. See https://github.com/optuna/optuna/releases/tag/v3.0.0. Use :func:`~optuna.trial.Trial.suggest_float` instead.\n",
      "  'learning_rate':trial.suggest_loguniform('learning_rate',0.01,0.1),\n",
      "\u001b[32m[I 2023-04-28 13:26:31,223]\u001b[0m Trial 10 finished with value: 0.8655169023384364 and parameters: {'learning_rate': 0.09958749958914011, 'max_depth': 9, 'n_estimators': 687}. Best is trial 10 with value: 0.8655169023384364.\u001b[0m\n",
      "/tmp/ipykernel_827478/2141867322.py:7: FutureWarning: suggest_loguniform has been deprecated in v3.0.0. This feature will be removed in v6.0.0. See https://github.com/optuna/optuna/releases/tag/v3.0.0. Use :func:`~optuna.trial.Trial.suggest_float` instead.\n",
      "  'learning_rate':trial.suggest_loguniform('learning_rate',0.01,0.1),\n",
      "\u001b[32m[I 2023-04-28 13:26:35,326]\u001b[0m Trial 11 finished with value: 0.8675490075807051 and parameters: {'learning_rate': 0.09545303793231438, 'max_depth': 9, 'n_estimators': 700}. Best is trial 11 with value: 0.8675490075807051.\u001b[0m\n",
      "/tmp/ipykernel_827478/2141867322.py:7: FutureWarning: suggest_loguniform has been deprecated in v3.0.0. This feature will be removed in v6.0.0. See https://github.com/optuna/optuna/releases/tag/v3.0.0. Use :func:`~optuna.trial.Trial.suggest_float` instead.\n",
      "  'learning_rate':trial.suggest_loguniform('learning_rate',0.01,0.1),\n",
      "\u001b[32m[I 2023-04-28 13:26:39,698]\u001b[0m Trial 12 finished with value: 0.8659622371920002 and parameters: {'learning_rate': 0.09900955173958229, 'max_depth': 9, 'n_estimators': 754}. Best is trial 11 with value: 0.8675490075807051.\u001b[0m\n",
      "/tmp/ipykernel_827478/2141867322.py:7: FutureWarning: suggest_loguniform has been deprecated in v3.0.0. This feature will be removed in v6.0.0. See https://github.com/optuna/optuna/releases/tag/v3.0.0. Use :func:`~optuna.trial.Trial.suggest_float` instead.\n",
      "  'learning_rate':trial.suggest_loguniform('learning_rate',0.01,0.1),\n",
      "\u001b[32m[I 2023-04-28 13:26:44,413]\u001b[0m Trial 13 finished with value: 0.8645039166375008 and parameters: {'learning_rate': 0.09702881520433464, 'max_depth': 9, 'n_estimators': 842}. Best is trial 11 with value: 0.8675490075807051.\u001b[0m\n",
      "/tmp/ipykernel_827478/2141867322.py:7: FutureWarning: suggest_loguniform has been deprecated in v3.0.0. This feature will be removed in v6.0.0. See https://github.com/optuna/optuna/releases/tag/v3.0.0. Use :func:`~optuna.trial.Trial.suggest_float` instead.\n",
      "  'learning_rate':trial.suggest_loguniform('learning_rate',0.01,0.1),\n",
      "\u001b[32m[I 2023-04-28 13:26:46,479]\u001b[0m Trial 14 finished with value: 0.8643696937770387 and parameters: {'learning_rate': 0.07241760458643176, 'max_depth': 8, 'n_estimators': 359}. Best is trial 11 with value: 0.8675490075807051.\u001b[0m\n",
      "/tmp/ipykernel_827478/2141867322.py:7: FutureWarning: suggest_loguniform has been deprecated in v3.0.0. This feature will be removed in v6.0.0. See https://github.com/optuna/optuna/releases/tag/v3.0.0. Use :func:`~optuna.trial.Trial.suggest_float` instead.\n",
      "  'learning_rate':trial.suggest_loguniform('learning_rate',0.01,0.1),\n",
      "\u001b[32m[I 2023-04-28 13:26:52,220]\u001b[0m Trial 15 finished with value: 0.8654176784496539 and parameters: {'learning_rate': 0.07450147107246152, 'max_depth': 9, 'n_estimators': 973}. Best is trial 11 with value: 0.8675490075807051.\u001b[0m\n",
      "/tmp/ipykernel_827478/2141867322.py:7: FutureWarning: suggest_loguniform has been deprecated in v3.0.0. This feature will be removed in v6.0.0. See https://github.com/optuna/optuna/releases/tag/v3.0.0. Use :func:`~optuna.trial.Trial.suggest_float` instead.\n",
      "  'learning_rate':trial.suggest_loguniform('learning_rate',0.01,0.1),\n",
      "\u001b[32m[I 2023-04-28 13:26:56,399]\u001b[0m Trial 16 finished with value: 0.8652462917326655 and parameters: {'learning_rate': 0.07549237219944355, 'max_depth': 8, 'n_estimators': 757}. Best is trial 11 with value: 0.8675490075807051.\u001b[0m\n",
      "/tmp/ipykernel_827478/2141867322.py:7: FutureWarning: suggest_loguniform has been deprecated in v3.0.0. This feature will be removed in v6.0.0. See https://github.com/optuna/optuna/releases/tag/v3.0.0. Use :func:`~optuna.trial.Trial.suggest_float` instead.\n",
      "  'learning_rate':trial.suggest_loguniform('learning_rate',0.01,0.1),\n",
      "\u001b[32m[I 2023-04-28 13:26:59,700]\u001b[0m Trial 17 finished with value: 0.8639383404714398 and parameters: {'learning_rate': 0.06390417469760432, 'max_depth': 8, 'n_estimators': 593}. Best is trial 11 with value: 0.8675490075807051.\u001b[0m\n",
      "/tmp/ipykernel_827478/2141867322.py:7: FutureWarning: suggest_loguniform has been deprecated in v3.0.0. This feature will be removed in v6.0.0. See https://github.com/optuna/optuna/releases/tag/v3.0.0. Use :func:`~optuna.trial.Trial.suggest_float` instead.\n",
      "  'learning_rate':trial.suggest_loguniform('learning_rate',0.01,0.1),\n",
      "\u001b[32m[I 2023-04-28 13:27:04,662]\u001b[0m Trial 18 finished with value: 0.8633937817290935 and parameters: {'learning_rate': 0.09782255206180553, 'max_depth': 9, 'n_estimators': 906}. Best is trial 11 with value: 0.8675490075807051.\u001b[0m\n",
      "/tmp/ipykernel_827478/2141867322.py:7: FutureWarning: suggest_loguniform has been deprecated in v3.0.0. This feature will be removed in v6.0.0. See https://github.com/optuna/optuna/releases/tag/v3.0.0. Use :func:`~optuna.trial.Trial.suggest_float` instead.\n",
      "  'learning_rate':trial.suggest_loguniform('learning_rate',0.01,0.1),\n",
      "\u001b[32m[I 2023-04-28 13:27:08,589]\u001b[0m Trial 19 finished with value: 0.8650212339121994 and parameters: {'learning_rate': 0.03430470326489998, 'max_depth': 8, 'n_estimators': 713}. Best is trial 11 with value: 0.8675490075807051.\u001b[0m\n",
      "/tmp/ipykernel_827478/2141867322.py:7: FutureWarning: suggest_loguniform has been deprecated in v3.0.0. This feature will be removed in v6.0.0. See https://github.com/optuna/optuna/releases/tag/v3.0.0. Use :func:`~optuna.trial.Trial.suggest_float` instead.\n",
      "  'learning_rate':trial.suggest_loguniform('learning_rate',0.01,0.1),\n",
      "\u001b[32m[I 2023-04-28 13:27:09,404]\u001b[0m Trial 20 finished with value: 0.8511847332320649 and parameters: {'learning_rate': 0.07927647951416307, 'max_depth': 4, 'n_estimators': 316}. Best is trial 11 with value: 0.8675490075807051.\u001b[0m\n",
      "/tmp/ipykernel_827478/2141867322.py:7: FutureWarning: suggest_loguniform has been deprecated in v3.0.0. This feature will be removed in v6.0.0. See https://github.com/optuna/optuna/releases/tag/v3.0.0. Use :func:`~optuna.trial.Trial.suggest_float` instead.\n",
      "  'learning_rate':trial.suggest_loguniform('learning_rate',0.01,0.1),\n",
      "\u001b[32m[I 2023-04-28 13:27:13,265]\u001b[0m Trial 21 finished with value: 0.8654616075713241 and parameters: {'learning_rate': 0.09959997441929103, 'max_depth': 9, 'n_estimators': 644}. Best is trial 11 with value: 0.8675490075807051.\u001b[0m\n",
      "/tmp/ipykernel_827478/2141867322.py:7: FutureWarning: suggest_loguniform has been deprecated in v3.0.0. This feature will be removed in v6.0.0. See https://github.com/optuna/optuna/releases/tag/v3.0.0. Use :func:`~optuna.trial.Trial.suggest_float` instead.\n",
      "  'learning_rate':trial.suggest_loguniform('learning_rate',0.01,0.1),\n",
      "\u001b[32m[I 2023-04-28 13:27:17,782]\u001b[0m Trial 22 finished with value: 0.8655058073035999 and parameters: {'learning_rate': 0.08388401687281216, 'max_depth': 9, 'n_estimators': 755}. Best is trial 11 with value: 0.8675490075807051.\u001b[0m\n",
      "/tmp/ipykernel_827478/2141867322.py:7: FutureWarning: suggest_loguniform has been deprecated in v3.0.0. This feature will be removed in v6.0.0. See https://github.com/optuna/optuna/releases/tag/v3.0.0. Use :func:`~optuna.trial.Trial.suggest_float` instead.\n",
      "  'learning_rate':trial.suggest_loguniform('learning_rate',0.01,0.1),\n",
      "\u001b[32m[I 2023-04-28 13:27:20,901]\u001b[0m Trial 23 finished with value: 0.862070135052733 and parameters: {'learning_rate': 0.06544730589012548, 'max_depth': 8, 'n_estimators': 567}. Best is trial 11 with value: 0.8675490075807051.\u001b[0m\n",
      "/tmp/ipykernel_827478/2141867322.py:7: FutureWarning: suggest_loguniform has been deprecated in v3.0.0. This feature will be removed in v6.0.0. See https://github.com/optuna/optuna/releases/tag/v3.0.0. Use :func:`~optuna.trial.Trial.suggest_float` instead.\n",
      "  'learning_rate':trial.suggest_loguniform('learning_rate',0.01,0.1),\n",
      "\u001b[32m[I 2023-04-28 13:27:25,772]\u001b[0m Trial 24 finished with value: 0.8663829464804385 and parameters: {'learning_rate': 0.08693289796413727, 'max_depth': 9, 'n_estimators': 828}. Best is trial 11 with value: 0.8675490075807051.\u001b[0m\n",
      "/tmp/ipykernel_827478/2141867322.py:7: FutureWarning: suggest_loguniform has been deprecated in v3.0.0. This feature will be removed in v6.0.0. See https://github.com/optuna/optuna/releases/tag/v3.0.0. Use :func:`~optuna.trial.Trial.suggest_float` instead.\n",
      "  'learning_rate':trial.suggest_loguniform('learning_rate',0.01,0.1),\n",
      "\u001b[32m[I 2023-04-28 13:27:29,954]\u001b[0m Trial 25 finished with value: 0.8649542126855035 and parameters: {'learning_rate': 0.06040016610507397, 'max_depth': 7, 'n_estimators': 861}. Best is trial 11 with value: 0.8675490075807051.\u001b[0m\n",
      "/tmp/ipykernel_827478/2141867322.py:7: FutureWarning: suggest_loguniform has been deprecated in v3.0.0. This feature will be removed in v6.0.0. See https://github.com/optuna/optuna/releases/tag/v3.0.0. Use :func:`~optuna.trial.Trial.suggest_float` instead.\n",
      "  'learning_rate':trial.suggest_loguniform('learning_rate',0.01,0.1),\n",
      "\u001b[32m[I 2023-04-28 13:27:34,243]\u001b[0m Trial 26 finished with value: 0.8659645824839167 and parameters: {'learning_rate': 0.08371736176364175, 'max_depth': 8, 'n_estimators': 782}. Best is trial 11 with value: 0.8675490075807051.\u001b[0m\n",
      "/tmp/ipykernel_827478/2141867322.py:7: FutureWarning: suggest_loguniform has been deprecated in v3.0.0. This feature will be removed in v6.0.0. See https://github.com/optuna/optuna/releases/tag/v3.0.0. Use :func:`~optuna.trial.Trial.suggest_float` instead.\n",
      "  'learning_rate':trial.suggest_loguniform('learning_rate',0.01,0.1),\n",
      "\u001b[32m[I 2023-04-28 13:27:38,691]\u001b[0m Trial 27 finished with value: 0.8652821927396979 and parameters: {'learning_rate': 0.08243300499408582, 'max_depth': 8, 'n_estimators': 812}. Best is trial 11 with value: 0.8675490075807051.\u001b[0m\n",
      "/tmp/ipykernel_827478/2141867322.py:7: FutureWarning: suggest_loguniform has been deprecated in v3.0.0. This feature will be removed in v6.0.0. See https://github.com/optuna/optuna/releases/tag/v3.0.0. Use :func:`~optuna.trial.Trial.suggest_float` instead.\n",
      "  'learning_rate':trial.suggest_loguniform('learning_rate',0.01,0.1),\n",
      "\u001b[32m[I 2023-04-28 13:27:43,730]\u001b[0m Trial 28 finished with value: 0.8659881256066188 and parameters: {'learning_rate': 0.053667676033131426, 'max_depth': 8, 'n_estimators': 918}. Best is trial 11 with value: 0.8675490075807051.\u001b[0m\n",
      "/tmp/ipykernel_827478/2141867322.py:7: FutureWarning: suggest_loguniform has been deprecated in v3.0.0. This feature will be removed in v6.0.0. See https://github.com/optuna/optuna/releases/tag/v3.0.0. Use :func:`~optuna.trial.Trial.suggest_float` instead.\n",
      "  'learning_rate':trial.suggest_loguniform('learning_rate',0.01,0.1),\n",
      "\u001b[32m[I 2023-04-28 13:27:48,277]\u001b[0m Trial 29 finished with value: 0.8651182027126006 and parameters: {'learning_rate': 0.055229628732949745, 'max_depth': 7, 'n_estimators': 921}. Best is trial 11 with value: 0.8675490075807051.\u001b[0m\n",
      "/tmp/ipykernel_827478/2141867322.py:7: FutureWarning: suggest_loguniform has been deprecated in v3.0.0. This feature will be removed in v6.0.0. See https://github.com/optuna/optuna/releases/tag/v3.0.0. Use :func:`~optuna.trial.Trial.suggest_float` instead.\n",
      "  'learning_rate':trial.suggest_loguniform('learning_rate',0.01,0.1),\n",
      "\u001b[32m[I 2023-04-28 13:27:52,659]\u001b[0m Trial 30 finished with value: 0.8618375001353054 and parameters: {'learning_rate': 0.07004177923737925, 'max_depth': 7, 'n_estimators': 902}. Best is trial 11 with value: 0.8675490075807051.\u001b[0m\n",
      "/tmp/ipykernel_827478/2141867322.py:7: FutureWarning: suggest_loguniform has been deprecated in v3.0.0. This feature will be removed in v6.0.0. See https://github.com/optuna/optuna/releases/tag/v3.0.0. Use :func:`~optuna.trial.Trial.suggest_float` instead.\n",
      "  'learning_rate':trial.suggest_loguniform('learning_rate',0.01,0.1),\n",
      "\u001b[32m[I 2023-04-28 13:27:57,897]\u001b[0m Trial 31 finished with value: 0.8647675815710569 and parameters: {'learning_rate': 0.08487758035738116, 'max_depth': 8, 'n_estimators': 998}. Best is trial 11 with value: 0.8675490075807051.\u001b[0m\n",
      "/tmp/ipykernel_827478/2141867322.py:7: FutureWarning: suggest_loguniform has been deprecated in v3.0.0. This feature will be removed in v6.0.0. See https://github.com/optuna/optuna/releases/tag/v3.0.0. Use :func:`~optuna.trial.Trial.suggest_float` instead.\n",
      "  'learning_rate':trial.suggest_loguniform('learning_rate',0.01,0.1),\n",
      "\u001b[32m[I 2023-04-28 13:28:02,228]\u001b[0m Trial 32 finished with value: 0.8679835180100378 and parameters: {'learning_rate': 0.06686757862474119, 'max_depth': 9, 'n_estimators': 718}. Best is trial 32 with value: 0.8679835180100378.\u001b[0m\n",
      "/tmp/ipykernel_827478/2141867322.py:7: FutureWarning: suggest_loguniform has been deprecated in v3.0.0. This feature will be removed in v6.0.0. See https://github.com/optuna/optuna/releases/tag/v3.0.0. Use :func:`~optuna.trial.Trial.suggest_float` instead.\n",
      "  'learning_rate':trial.suggest_loguniform('learning_rate',0.01,0.1),\n",
      "\u001b[32m[I 2023-04-28 13:28:05,977]\u001b[0m Trial 33 finished with value: 0.8650871726964724 and parameters: {'learning_rate': 0.06311907624634547, 'max_depth': 9, 'n_estimators': 623}. Best is trial 32 with value: 0.8679835180100378.\u001b[0m\n",
      "/tmp/ipykernel_827478/2141867322.py:7: FutureWarning: suggest_loguniform has been deprecated in v3.0.0. This feature will be removed in v6.0.0. See https://github.com/optuna/optuna/releases/tag/v3.0.0. Use :func:`~optuna.trial.Trial.suggest_float` instead.\n",
      "  'learning_rate':trial.suggest_loguniform('learning_rate',0.01,0.1),\n",
      "\u001b[32m[I 2023-04-28 13:28:06,689]\u001b[0m Trial 34 finished with value: 0.862071578309297 and parameters: {'learning_rate': 0.053187824319048976, 'max_depth': 9, 'n_estimators': 104}. Best is trial 32 with value: 0.8679835180100378.\u001b[0m\n",
      "/tmp/ipykernel_827478/2141867322.py:7: FutureWarning: suggest_loguniform has been deprecated in v3.0.0. This feature will be removed in v6.0.0. See https://github.com/optuna/optuna/releases/tag/v3.0.0. Use :func:`~optuna.trial.Trial.suggest_float` instead.\n",
      "  'learning_rate':trial.suggest_loguniform('learning_rate',0.01,0.1),\n",
      "\u001b[32m[I 2023-04-28 13:28:11,001]\u001b[0m Trial 35 finished with value: 0.8648173739225186 and parameters: {'learning_rate': 0.0677008677047524, 'max_depth': 9, 'n_estimators': 712}. Best is trial 32 with value: 0.8679835180100378.\u001b[0m\n",
      "/tmp/ipykernel_827478/2141867322.py:7: FutureWarning: suggest_loguniform has been deprecated in v3.0.0. This feature will be removed in v6.0.0. See https://github.com/optuna/optuna/releases/tag/v3.0.0. Use :func:`~optuna.trial.Trial.suggest_float` instead.\n",
      "  'learning_rate':trial.suggest_loguniform('learning_rate',0.01,0.1),\n",
      "\u001b[32m[I 2023-04-28 13:28:16,101]\u001b[0m Trial 36 finished with value: 0.8652639716255761 and parameters: {'learning_rate': 0.04826215726121625, 'max_depth': 8, 'n_estimators': 929}. Best is trial 32 with value: 0.8679835180100378.\u001b[0m\n",
      "/tmp/ipykernel_827478/2141867322.py:7: FutureWarning: suggest_loguniform has been deprecated in v3.0.0. This feature will be removed in v6.0.0. See https://github.com/optuna/optuna/releases/tag/v3.0.0. Use :func:`~optuna.trial.Trial.suggest_float` instead.\n",
      "  'learning_rate':trial.suggest_loguniform('learning_rate',0.01,0.1),\n",
      "\u001b[32m[I 2023-04-28 13:28:20,040]\u001b[0m Trial 37 finished with value: 0.8662383502134215 and parameters: {'learning_rate': 0.05644377424407805, 'max_depth': 7, 'n_estimators': 818}. Best is trial 32 with value: 0.8679835180100378.\u001b[0m\n",
      "/tmp/ipykernel_827478/2141867322.py:7: FutureWarning: suggest_loguniform has been deprecated in v3.0.0. This feature will be removed in v6.0.0. See https://github.com/optuna/optuna/releases/tag/v3.0.0. Use :func:`~optuna.trial.Trial.suggest_float` instead.\n",
      "  'learning_rate':trial.suggest_loguniform('learning_rate',0.01,0.1),\n",
      "\u001b[32m[I 2023-04-28 13:28:22,722]\u001b[0m Trial 38 finished with value: 0.8595042954923489 and parameters: {'learning_rate': 0.06166926987195812, 'max_depth': 5, 'n_estimators': 814}. Best is trial 32 with value: 0.8679835180100378.\u001b[0m\n",
      "/tmp/ipykernel_827478/2141867322.py:7: FutureWarning: suggest_loguniform has been deprecated in v3.0.0. This feature will be removed in v6.0.0. See https://github.com/optuna/optuna/releases/tag/v3.0.0. Use :func:`~optuna.trial.Trial.suggest_float` instead.\n",
      "  'learning_rate':trial.suggest_loguniform('learning_rate',0.01,0.1),\n",
      "\u001b[32m[I 2023-04-28 13:28:25,301]\u001b[0m Trial 39 finished with value: 0.8603357916803475 and parameters: {'learning_rate': 0.08852251842623937, 'max_depth': 6, 'n_estimators': 626}. Best is trial 32 with value: 0.8679835180100378.\u001b[0m\n",
      "/tmp/ipykernel_827478/2141867322.py:7: FutureWarning: suggest_loguniform has been deprecated in v3.0.0. This feature will be removed in v6.0.0. See https://github.com/optuna/optuna/releases/tag/v3.0.0. Use :func:`~optuna.trial.Trial.suggest_float` instead.\n",
      "  'learning_rate':trial.suggest_loguniform('learning_rate',0.01,0.1),\n",
      "\u001b[32m[I 2023-04-28 13:28:27,833]\u001b[0m Trial 40 finished with value: 0.8644499749234171 and parameters: {'learning_rate': 0.07283213492333437, 'max_depth': 7, 'n_estimators': 519}. Best is trial 32 with value: 0.8679835180100378.\u001b[0m\n",
      "/tmp/ipykernel_827478/2141867322.py:7: FutureWarning: suggest_loguniform has been deprecated in v3.0.0. This feature will be removed in v6.0.0. See https://github.com/optuna/optuna/releases/tag/v3.0.0. Use :func:`~optuna.trial.Trial.suggest_float` instead.\n",
      "  'learning_rate':trial.suggest_loguniform('learning_rate',0.01,0.1),\n",
      "\u001b[32m[I 2023-04-28 13:28:32,117]\u001b[0m Trial 41 finished with value: 0.8645685023687448 and parameters: {'learning_rate': 0.05484008303702406, 'max_depth': 7, 'n_estimators': 880}. Best is trial 32 with value: 0.8679835180100378.\u001b[0m\n",
      "/tmp/ipykernel_827478/2141867322.py:7: FutureWarning: suggest_loguniform has been deprecated in v3.0.0. This feature will be removed in v6.0.0. See https://github.com/optuna/optuna/releases/tag/v3.0.0. Use :func:`~optuna.trial.Trial.suggest_float` instead.\n",
      "  'learning_rate':trial.suggest_loguniform('learning_rate',0.01,0.1),\n",
      "\u001b[32m[I 2023-04-28 13:28:36,605]\u001b[0m Trial 42 finished with value: 0.8666780924477993 and parameters: {'learning_rate': 0.046495444714300276, 'max_depth': 8, 'n_estimators': 819}. Best is trial 32 with value: 0.8679835180100378.\u001b[0m\n",
      "/tmp/ipykernel_827478/2141867322.py:7: FutureWarning: suggest_loguniform has been deprecated in v3.0.0. This feature will be removed in v6.0.0. See https://github.com/optuna/optuna/releases/tag/v3.0.0. Use :func:`~optuna.trial.Trial.suggest_float` instead.\n",
      "  'learning_rate':trial.suggest_loguniform('learning_rate',0.01,0.1),\n",
      "\u001b[32m[I 2023-04-28 13:28:40,974]\u001b[0m Trial 43 finished with value: 0.8678411768314025 and parameters: {'learning_rate': 0.04191707174393656, 'max_depth': 9, 'n_estimators': 726}. Best is trial 32 with value: 0.8679835180100378.\u001b[0m\n",
      "/tmp/ipykernel_827478/2141867322.py:7: FutureWarning: suggest_loguniform has been deprecated in v3.0.0. This feature will be removed in v6.0.0. See https://github.com/optuna/optuna/releases/tag/v3.0.0. Use :func:`~optuna.trial.Trial.suggest_float` instead.\n",
      "  'learning_rate':trial.suggest_loguniform('learning_rate',0.01,0.1),\n",
      "\u001b[32m[I 2023-04-28 13:28:45,299]\u001b[0m Trial 44 finished with value: 0.8674860455130957 and parameters: {'learning_rate': 0.03655356324889054, 'max_depth': 9, 'n_estimators': 701}. Best is trial 32 with value: 0.8679835180100378.\u001b[0m\n",
      "/tmp/ipykernel_827478/2141867322.py:7: FutureWarning: suggest_loguniform has been deprecated in v3.0.0. This feature will be removed in v6.0.0. See https://github.com/optuna/optuna/releases/tag/v3.0.0. Use :func:`~optuna.trial.Trial.suggest_float` instead.\n",
      "  'learning_rate':trial.suggest_loguniform('learning_rate',0.01,0.1),\n",
      "\u001b[32m[I 2023-04-28 13:28:49,335]\u001b[0m Trial 45 finished with value: 0.8680264548928202 and parameters: {'learning_rate': 0.03841283666283786, 'max_depth': 9, 'n_estimators': 682}. Best is trial 45 with value: 0.8680264548928202.\u001b[0m\n",
      "/tmp/ipykernel_827478/2141867322.py:7: FutureWarning: suggest_loguniform has been deprecated in v3.0.0. This feature will be removed in v6.0.0. See https://github.com/optuna/optuna/releases/tag/v3.0.0. Use :func:`~optuna.trial.Trial.suggest_float` instead.\n",
      "  'learning_rate':trial.suggest_loguniform('learning_rate',0.01,0.1),\n",
      "\u001b[32m[I 2023-04-28 13:28:53,315]\u001b[0m Trial 46 finished with value: 0.8666405677771323 and parameters: {'learning_rate': 0.03926235254223223, 'max_depth': 9, 'n_estimators': 676}. Best is trial 45 with value: 0.8680264548928202.\u001b[0m\n",
      "/tmp/ipykernel_827478/2141867322.py:7: FutureWarning: suggest_loguniform has been deprecated in v3.0.0. This feature will be removed in v6.0.0. See https://github.com/optuna/optuna/releases/tag/v3.0.0. Use :func:`~optuna.trial.Trial.suggest_float` instead.\n",
      "  'learning_rate':trial.suggest_loguniform('learning_rate',0.01,0.1),\n",
      "\u001b[32m[I 2023-04-28 13:28:57,608]\u001b[0m Trial 47 finished with value: 0.8649823561885037 and parameters: {'learning_rate': 0.026377752613104467, 'max_depth': 9, 'n_estimators': 720}. Best is trial 45 with value: 0.8680264548928202.\u001b[0m\n",
      "/tmp/ipykernel_827478/2141867322.py:7: FutureWarning: suggest_loguniform has been deprecated in v3.0.0. This feature will be removed in v6.0.0. See https://github.com/optuna/optuna/releases/tag/v3.0.0. Use :func:`~optuna.trial.Trial.suggest_float` instead.\n",
      "  'learning_rate':trial.suggest_loguniform('learning_rate',0.01,0.1),\n",
      "\u001b[32m[I 2023-04-28 13:29:01,129]\u001b[0m Trial 48 finished with value: 0.8673332407243703 and parameters: {'learning_rate': 0.03799535339495765, 'max_depth': 9, 'n_estimators': 585}. Best is trial 45 with value: 0.8680264548928202.\u001b[0m\n",
      "/tmp/ipykernel_827478/2141867322.py:7: FutureWarning: suggest_loguniform has been deprecated in v3.0.0. This feature will be removed in v6.0.0. See https://github.com/optuna/optuna/releases/tag/v3.0.0. Use :func:`~optuna.trial.Trial.suggest_float` instead.\n",
      "  'learning_rate':trial.suggest_loguniform('learning_rate',0.01,0.1),\n",
      "\u001b[32m[I 2023-04-28 13:29:03,949]\u001b[0m Trial 49 finished with value: 0.8660174417555773 and parameters: {'learning_rate': 0.030658669110608005, 'max_depth': 9, 'n_estimators': 464}. Best is trial 45 with value: 0.8680264548928202.\u001b[0m\n"
     ]
    },
    {
     "name": "stdout",
     "output_type": "stream",
     "text": [
      "Best hyperparameters: {'learning_rate': 0.03841283666283786, 'max_depth': 9, 'n_estimators': 682}\n",
      "Best AUC: 0.8680\n"
     ]
    }
   ],
   "source": [
    "def objective(trial):\n",
    "    # Define hyperparameters to optimize \n",
    "    params={\n",
    "        'boosting_type':'gbdt',\n",
    "        'objective':'binary',\n",
    "        'metric':'binary_logloss',\n",
    "        'learning_rate':trial.suggest_loguniform('learning_rate',0.01,0.1),\n",
    "        'max_depth':trial.suggest_int('max_depth',3,9),\n",
    "        'n_estimators':trial.suggest_int(\"n_estimators\",100,1000)\n",
    "    }\n",
    "    # Train and evaluate model \n",
    "    lgb_cv=lgb.LGBMClassifier(**params, random_state=42,scale_pos_weight=ratio)\n",
    "    scores=cross_val_score(lgb_cv,train_X,train_y,cv=5,scoring='roc_auc')\n",
    "    auc=scores.mean()\n",
    "    return auc \n",
    "\n",
    "# Define study object and optimize \n",
    "\n",
    "study=optuna.create_study(direction='maximize',study_name='lgb_boost_opt',load_if_exists=True)\n",
    "study.optimize(objective, n_trials=50)\n",
    "\n",
    "# Print best hyperparameters and auc\n",
    "print(f'Best hyperparameters: {study.best_params}')\n",
    "print(f'Best AUC: {study.best_value:.4f}')"
   ]
  },
  {
   "cell_type": "code",
   "execution_count": 18,
   "metadata": {},
   "outputs": [],
   "source": [
    "lgb=lgb.LGBMClassifier(learning_rate= 0.03841283666283786,max_depth=9,n_estimators=682,scale_pos_weight=ratio,random_state=42)"
   ]
  },
  {
   "cell_type": "code",
   "execution_count": 19,
   "metadata": {},
   "outputs": [
    {
     "data": {
      "text/html": [
       "<style>#sk-container-id-2 {color: black;background-color: white;}#sk-container-id-2 pre{padding: 0;}#sk-container-id-2 div.sk-toggleable {background-color: white;}#sk-container-id-2 label.sk-toggleable__label {cursor: pointer;display: block;width: 100%;margin-bottom: 0;padding: 0.3em;box-sizing: border-box;text-align: center;}#sk-container-id-2 label.sk-toggleable__label-arrow:before {content: \"▸\";float: left;margin-right: 0.25em;color: #696969;}#sk-container-id-2 label.sk-toggleable__label-arrow:hover:before {color: black;}#sk-container-id-2 div.sk-estimator:hover label.sk-toggleable__label-arrow:before {color: black;}#sk-container-id-2 div.sk-toggleable__content {max-height: 0;max-width: 0;overflow: hidden;text-align: left;background-color: #f0f8ff;}#sk-container-id-2 div.sk-toggleable__content pre {margin: 0.2em;color: black;border-radius: 0.25em;background-color: #f0f8ff;}#sk-container-id-2 input.sk-toggleable__control:checked~div.sk-toggleable__content {max-height: 200px;max-width: 100%;overflow: auto;}#sk-container-id-2 input.sk-toggleable__control:checked~label.sk-toggleable__label-arrow:before {content: \"▾\";}#sk-container-id-2 div.sk-estimator input.sk-toggleable__control:checked~label.sk-toggleable__label {background-color: #d4ebff;}#sk-container-id-2 div.sk-label input.sk-toggleable__control:checked~label.sk-toggleable__label {background-color: #d4ebff;}#sk-container-id-2 input.sk-hidden--visually {border: 0;clip: rect(1px 1px 1px 1px);clip: rect(1px, 1px, 1px, 1px);height: 1px;margin: -1px;overflow: hidden;padding: 0;position: absolute;width: 1px;}#sk-container-id-2 div.sk-estimator {font-family: monospace;background-color: #f0f8ff;border: 1px dotted black;border-radius: 0.25em;box-sizing: border-box;margin-bottom: 0.5em;}#sk-container-id-2 div.sk-estimator:hover {background-color: #d4ebff;}#sk-container-id-2 div.sk-parallel-item::after {content: \"\";width: 100%;border-bottom: 1px solid gray;flex-grow: 1;}#sk-container-id-2 div.sk-label:hover label.sk-toggleable__label {background-color: #d4ebff;}#sk-container-id-2 div.sk-serial::before {content: \"\";position: absolute;border-left: 1px solid gray;box-sizing: border-box;top: 0;bottom: 0;left: 50%;z-index: 0;}#sk-container-id-2 div.sk-serial {display: flex;flex-direction: column;align-items: center;background-color: white;padding-right: 0.2em;padding-left: 0.2em;position: relative;}#sk-container-id-2 div.sk-item {position: relative;z-index: 1;}#sk-container-id-2 div.sk-parallel {display: flex;align-items: stretch;justify-content: center;background-color: white;position: relative;}#sk-container-id-2 div.sk-item::before, #sk-container-id-2 div.sk-parallel-item::before {content: \"\";position: absolute;border-left: 1px solid gray;box-sizing: border-box;top: 0;bottom: 0;left: 50%;z-index: -1;}#sk-container-id-2 div.sk-parallel-item {display: flex;flex-direction: column;z-index: 1;position: relative;background-color: white;}#sk-container-id-2 div.sk-parallel-item:first-child::after {align-self: flex-end;width: 50%;}#sk-container-id-2 div.sk-parallel-item:last-child::after {align-self: flex-start;width: 50%;}#sk-container-id-2 div.sk-parallel-item:only-child::after {width: 0;}#sk-container-id-2 div.sk-dashed-wrapped {border: 1px dashed gray;margin: 0 0.4em 0.5em 0.4em;box-sizing: border-box;padding-bottom: 0.4em;background-color: white;}#sk-container-id-2 div.sk-label label {font-family: monospace;font-weight: bold;display: inline-block;line-height: 1.2em;}#sk-container-id-2 div.sk-label-container {text-align: center;}#sk-container-id-2 div.sk-container {/* jupyter's `normalize.less` sets `[hidden] { display: none; }` but bootstrap.min.css set `[hidden] { display: none !important; }` so we also need the `!important` here to be able to override the default hidden behavior on the sphinx rendered scikit-learn.org. See: https://github.com/scikit-learn/scikit-learn/issues/21755 */display: inline-block !important;position: relative;}#sk-container-id-2 div.sk-text-repr-fallback {display: none;}</style><div id=\"sk-container-id-2\" class=\"sk-top-container\"><div class=\"sk-text-repr-fallback\"><pre>LGBMClassifier(learning_rate=0.03841283666283786, max_depth=9, n_estimators=682,\n",
       "               random_state=42, scale_pos_weight=1.149579831932773)</pre><b>In a Jupyter environment, please rerun this cell to show the HTML representation or trust the notebook. <br />On GitHub, the HTML representation is unable to render, please try loading this page with nbviewer.org.</b></div><div class=\"sk-container\" hidden><div class=\"sk-item\"><div class=\"sk-estimator sk-toggleable\"><input class=\"sk-toggleable__control sk-hidden--visually\" id=\"sk-estimator-id-2\" type=\"checkbox\" checked><label for=\"sk-estimator-id-2\" class=\"sk-toggleable__label sk-toggleable__label-arrow\">LGBMClassifier</label><div class=\"sk-toggleable__content\"><pre>LGBMClassifier(learning_rate=0.03841283666283786, max_depth=9, n_estimators=682,\n",
       "               random_state=42, scale_pos_weight=1.149579831932773)</pre></div></div></div></div></div>"
      ],
      "text/plain": [
       "LGBMClassifier(learning_rate=0.03841283666283786, max_depth=9, n_estimators=682,\n",
       "               random_state=42, scale_pos_weight=1.149579831932773)"
      ]
     },
     "execution_count": 19,
     "metadata": {},
     "output_type": "execute_result"
    }
   ],
   "source": [
    "# 모델 학습하기\n",
    "\n",
    "lgb.fit(train_X,train_y)"
   ]
  },
  {
   "cell_type": "code",
   "execution_count": 20,
   "metadata": {},
   "outputs": [],
   "source": [
    "# 모델의 성능(AUC)을 평가하기 위해 예측된 클래스가 불량일 확률 구하기\n",
    "\n",
    "prob=lgb.predict_proba(new_test_data_X)[:,1]"
   ]
  },
  {
   "cell_type": "code",
   "execution_count": 21,
   "metadata": {},
   "outputs": [],
   "source": [
    "# 모델 성능 평가함수 만들기\n",
    "\n",
    "from sklearn.metrics import accuracy_score, precision_score, recall_score, confusion_matrix, f1_score\n",
    "\n",
    "def get_clf_prob(y_test, probability):\n",
    "  pred=np.where(probability > 0.5,1,0)\n",
    "  confusion=confusion_matrix(y_test, pred)\n",
    "  accuracy=accuracy_score(y_test,pred)\n",
    "  precision=precision_score(y_test,pred) \n",
    "  recall=recall_score(y_test,pred) \n",
    "  # F1 스코어 추가 \n",
    "  f1=f1_score(y_test,pred,average='macro')\n",
    "  Roc_score=roc_auc_score(y_test,probability)\n",
    "  print('임계값: ', 0.5) \n",
    "  print('오차행렬')\n",
    "  print(confusion) \n",
    "  # f1 score print 추가 \n",
    "  print('정확도: {0:.4f}, 정밀도: {1:.4f}, 재현율: {2:.4f}, F1:{3:.4f}, AUC:{4: .4f}'.format(accuracy,precision,recall,f1,Roc_score))"
   ]
  },
  {
   "cell_type": "code",
   "execution_count": 22,
   "metadata": {},
   "outputs": [
    {
     "name": "stdout",
     "output_type": "stream",
     "text": [
      "임계값:  0.5\n",
      "오차행렬\n",
      "[[148  23]\n",
      " [ 24 125]]\n",
      "정확도: 0.8531, 정밀도: 0.8446, 재현율: 0.8389, F1:0.8524, AUC: 0.9070\n"
     ]
    }
   ],
   "source": [
    "# 모델 평가하기\n",
    "\n",
    "get_clf_prob(new_test_data_y,prob)"
   ]
  },
  {
   "cell_type": "code",
   "execution_count": null,
   "metadata": {},
   "outputs": [],
   "source": []
  }
 ],
 "metadata": {
  "kernelspec": {
   "display_name": "Python 3",
   "language": "python",
   "name": "python3"
  },
  "language_info": {
   "codemirror_mode": {
    "name": "ipython",
    "version": 3
   },
   "file_extension": ".py",
   "mimetype": "text/x-python",
   "name": "python",
   "nbconvert_exporter": "python",
   "pygments_lexer": "ipython3",
   "version": "3.8.10"
  },
  "orig_nbformat": 4
 },
 "nbformat": 4,
 "nbformat_minor": 2
}
